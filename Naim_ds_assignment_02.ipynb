{
 "cells": [
  {
   "cell_type": "markdown",
   "id": "a23f3d3c",
   "metadata": {},
   "source": [
    "# Python Conditions:\n",
    "1. Take values of the length & breadth of a rectangle from user input and check if it is square or not."
   ]
  },
  {
   "cell_type": "code",
   "execution_count": 3,
   "id": "ef9714ee",
   "metadata": {},
   "outputs": [
    {
     "name": "stdout",
     "output_type": "stream",
     "text": [
      "Enter length: 5\n",
      "Enter Bredth: 5\n",
      "It is a square\n"
     ]
    }
   ],
   "source": [
    "L =int(input('Enter length: '))\n",
    "B =int(input('Enter Bredth: '))\n",
    "if (L==B):\n",
    "    print(\"It is a square\")\n",
    "else:\n",
    "    print('It is not a square')\n"
   ]
  },
  {
   "cell_type": "markdown",
   "id": "6b943ca2",
   "metadata": {},
   "source": [
    "# 2. Take three integer values from the user and print the greatest among them."
   ]
  },
  {
   "cell_type": "code",
   "execution_count": 10,
   "id": "569285a5",
   "metadata": {},
   "outputs": [
    {
     "name": "stdout",
     "output_type": "stream",
     "text": [
      "Enter 1st integer value: 33\n",
      "Enter 2nd integer value: 12\n",
      "Enter 3rd integer value: 56\n",
      "The greatest value is 3rd\n"
     ]
    }
   ],
   "source": [
    "a =int(input('Enter 1st integer value: '))\n",
    "b =int(input('Enter 2nd integer value: '))\n",
    "c =int(input('Enter 3rd integer value: '))\n",
    "if (a>=b and a>=c):\n",
    "    print('The greatest value is 1st')\n",
    "elif (b>=a and b>=c):\n",
    "    print('The greatest value is 2nd')\n",
    "else:\n",
    "    print('The greatest value is 3rd')\n",
    "\n",
    "    "
   ]
  },
  {
   "cell_type": "markdown",
   "id": "821eaa3c",
   "metadata": {},
   "source": [
    "# 3. A student will not be allowed to sit in an exam if his/her attendance is less than 75%."
   ]
  },
  {
   "cell_type": "code",
   "execution_count": 13,
   "id": "4c3689db",
   "metadata": {},
   "outputs": [
    {
     "name": "stdout",
     "output_type": "stream",
     "text": [
      "Number of class: 74\n",
      "A student will not be allowed to sit in an exam\n"
     ]
    }
   ],
   "source": [
    "class_number =int(input('Number of class: '))\n",
    "attendence =(class_number*100)/100\n",
    "\n",
    "if (attendence<75):\n",
    "    print(\"A student will not be allowed to sit in an exam\")\n",
    "else:\n",
    "    print('A student will be allowed to sit in an exam')"
   ]
  },
  {
   "cell_type": "markdown",
   "id": "c3eb3180",
   "metadata": {},
   "source": [
    "# 4. A school has the following rules for the grading system:"
   ]
  },
  {
   "cell_type": "code",
   "execution_count": 38,
   "id": "54a7cccf",
   "metadata": {},
   "outputs": [
    {
     "name": "stdout",
     "output_type": "stream",
     "text": [
      "Enter the mark of a student: 25\n",
      "E\n"
     ]
    }
   ],
   "source": [
    "mark= int(input('Enter the mark of a student: '))\n",
    "\n",
    "if (mark>=90 and mark<=100):   \n",
    "    print(\"A+\")\n",
    "    \n",
    "elif (mark>=80 and mark<=89):   \n",
    "    print(\"A\")\n",
    "    \n",
    "elif (mark>=60 and mark<=79):   \n",
    "    print(\"B\")\n",
    "    \n",
    "elif (mark>=50 and mark<=59):   \n",
    "    print(\"C\")\n",
    "\n",
    "elif (mark>=45 and mark<=49):   \n",
    "    print(\"D\")\n",
    "\n",
    "elif (mark>=25 and mark<=44):   \n",
    "    print(\"E\")\n",
    "    \n",
    "elif (mark<25):   \n",
    "    print(\"F\")\n",
    "\n",
    "else:\n",
    "    print('Invalid Mark')"
   ]
  },
  {
   "cell_type": "markdown",
   "id": "0bfb4ec3",
   "metadata": {},
   "source": [
    "# Loop Problem:\n",
    "5. Print the following pattern using for and while loop.\n",
    "1 2 3 4 5 6 7\n",
    "1 2 3 4 5 6\n",
    "1 2 3 4 5\n",
    "1 2 3 4"
   ]
  },
  {
   "cell_type": "code",
   "execution_count": 49,
   "id": "140b8c9b",
   "metadata": {},
   "outputs": [
    {
     "name": "stdout",
     "output_type": "stream",
     "text": [
      "1 2 3 4 5 6 7 \n",
      "\n",
      "1 2 3 4 5 6 \n",
      "\n",
      "1 2 3 4 5 \n",
      "\n",
      "1 2 3 4 \n",
      "\n"
     ]
    }
   ],
   "source": [
    "'''\n",
    "1 2 3 4 5 6 7 \n",
    "1 2 3 4 5 6 \n",
    "1 2 3 4 5 \n",
    "1 2 3 4\n",
    "'''\n",
    "#using for loop\n",
    "for i in range(1,5):\n",
    "    for j in range(1,9-i):\n",
    "        print(j,end=' ')\n",
    "    print('\\n')"
   ]
  },
  {
   "cell_type": "code",
   "execution_count": 52,
   "id": "a9d8c2bd",
   "metadata": {},
   "outputs": [
    {
     "name": "stdout",
     "output_type": "stream",
     "text": [
      "1 2 3 4 5 6 7 \n",
      "\n",
      "1 2 3 4 5 6 \n",
      "\n",
      "1 2 3 4 5 \n",
      "\n",
      "1 2 3 4 \n",
      "\n"
     ]
    }
   ],
   "source": [
    "#using while loop\n",
    "i=1\n",
    "while(i<5):\n",
    "    j=1\n",
    "    while(j<9-i):\n",
    "        print(j,end=' ')\n",
    "        j+=1\n",
    "    print('\\n')\n",
    "    i+=1"
   ]
  },
  {
   "cell_type": "markdown",
   "id": "2f42c5d2",
   "metadata": {},
   "source": [
    "# 6. Display numbers from -100 to -10 using for loop"
   ]
  },
  {
   "cell_type": "code",
   "execution_count": 2,
   "id": "427349c7",
   "metadata": {},
   "outputs": [
    {
     "name": "stdout",
     "output_type": "stream",
     "text": [
      "-100 -99 -98 -97 -96 -95 -94 -93 -92 -91 -90 -89 -88 -87 -86 -85 -84 -83 -82 -81 -80 -79 -78 -77 -76 -75 -74 -73 -72 -71 -70 -69 -68 -67 -66 -65 -64 -63 -62 -61 -60 -59 -58 -57 -56 -55 -54 -53 -52 -51 -50 -49 -48 -47 -46 -45 -44 -43 -42 -41 -40 -39 -38 -37 -36 -35 -34 -33 -32 -31 -30 -29 -28 -27 -26 -25 -24 -23 -22 -21 -20 -19 -18 -17 -16 -15 -14 -13 -12 -11 -10 "
     ]
    }
   ],
   "source": [
    "for i in range(-100,-9):\n",
    "    print(i,end=' ')"
   ]
  },
  {
   "cell_type": "markdown",
   "id": "133fa3b6",
   "metadata": {},
   "source": [
    "# 7. Write a program to sum all prime numbers within a range of 10 to 1000."
   ]
  },
  {
   "cell_type": "code",
   "execution_count": 25,
   "id": "5828e4e3",
   "metadata": {},
   "outputs": [
    {
     "name": "stdout",
     "output_type": "stream",
     "text": [
      "Sum all Prime numbers within 10 and 1000 are: 76110\n"
     ]
    }
   ],
   "source": [
    "lower = 10\n",
    "upper = 1000\n",
    "p=0\n",
    "\n",
    "for num in range(lower, upper + 1):\n",
    "   if num > 1:\n",
    "    for i in range(2, num):\n",
    "        if (num % i) == 0:\n",
    "            break\n",
    "    else:\n",
    "        p+=num\n",
    "print(\"Sum all Prime numbers within\", lower, \"and\", upper, \"are:\",p)"
   ]
  },
  {
   "cell_type": "markdown",
   "id": "4913dc2a",
   "metadata": {},
   "source": [
    "# 8. Find the factorial of an n! (Hint, n=7: 7*6*5*4*3*2*1)."
   ]
  },
  {
   "cell_type": "code",
   "execution_count": 36,
   "id": "d359c803",
   "metadata": {},
   "outputs": [
    {
     "name": "stdout",
     "output_type": "stream",
     "text": [
      "7*6*5*4*3*2*1 = 5040\n"
     ]
    }
   ],
   "source": [
    "n = 7\n",
    "factorial = 1\n",
    "\n",
    "# Calculate the factorial of n\n",
    "for i in range(1, n+1):\n",
    "    factorial *= i\n",
    "    #print(factorial)\n",
    "\n",
    "# Print the factorial as a sequence of numbers multiplied together\n",
    "print('*'.join(str(i) for i in range(n, 0, -1)), '=', factorial)\n"
   ]
  },
  {
   "cell_type": "markdown",
   "id": "57cedef6",
   "metadata": {},
   "source": [
    "# 9. Reverse a given integer number 27956240710.\n"
   ]
  },
  {
   "cell_type": "code",
   "execution_count": 37,
   "id": "e7432be0",
   "metadata": {},
   "outputs": [
    {
     "name": "stdout",
     "output_type": "stream",
     "text": [
      "1704265972\n"
     ]
    }
   ],
   "source": [
    "#The [::-1] syntax means that we are slicing the string from the end to the beginning, with a step size of -1, \n",
    "#which effectively reverses the order of the characters.\n",
    "\n",
    "num = 27956240710\n",
    "reverse_num = int(str(num)[::-1]) \n",
    "print(reverse_num)"
   ]
  },
  {
   "cell_type": "markdown",
   "id": "07826f3f",
   "metadata": {},
   "source": [
    "# 10. Print the following pattern using for and while loop.\n"
   ]
  },
  {
   "cell_type": "code",
   "execution_count": null,
   "id": "3398968c",
   "metadata": {},
   "outputs": [],
   "source": [
    "# # #\n",
    "# # # #\n",
    "# # #\n",
    "# #\n",
    "for i in range()"
   ]
  },
  {
   "cell_type": "markdown",
   "id": "de03f835",
   "metadata": {},
   "source": [
    "# 11. Display the Fibonacci series of 15 elements using the for and while loop."
   ]
  },
  {
   "cell_type": "code",
   "execution_count": 5,
   "id": "ddb62f8f",
   "metadata": {},
   "outputs": [
    {
     "name": "stdout",
     "output_type": "stream",
     "text": [
      "Enter the no of elements of the series15\n",
      "610\n"
     ]
    }
   ],
   "source": [
    "def fibonacci(n):\n",
    "    if n<0:\n",
    "        print('Incorrect Number')\n",
    "    elif n==0:\n",
    "        return 0\n",
    "    elif n==1 or n==2:\n",
    "        return 1\n",
    "    else:\n",
    "        return fibonacci(n-1)+fibonacci(n-2)\n",
    "#n=15\n",
    "n=int(input('Enter the no of elements of the series'))\n",
    "print(fibonacci(n))\n",
    "                                    "
   ]
  },
  {
   "cell_type": "markdown",
   "id": "1766e64e",
   "metadata": {},
   "source": [
    "# Python inbuilt Data Structure:\n",
    "12. Remove 2 and add 3 to the list and replace True with False.\n",
    "Li = [1,3,5, [2,3], True]\n",
    "Output = [1,3,5, [3,3], False]"
   ]
  },
  {
   "cell_type": "code",
   "execution_count": 23,
   "id": "6fd5f435",
   "metadata": {},
   "outputs": [
    {
     "ename": "ValueError",
     "evalue": "list.remove(x): x not in list",
     "output_type": "error",
     "traceback": [
      "\u001b[1;31m---------------------------------------------------------------------------\u001b[0m",
      "\u001b[1;31mValueError\u001b[0m                                Traceback (most recent call last)",
      "Cell \u001b[1;32mIn[23], line 2\u001b[0m\n\u001b[0;32m      1\u001b[0m Li \u001b[38;5;241m=\u001b[39m [\u001b[38;5;241m1\u001b[39m,\u001b[38;5;241m3\u001b[39m,\u001b[38;5;241m5\u001b[39m, [\u001b[38;5;241m2\u001b[39m,\u001b[38;5;241m3\u001b[39m], \u001b[38;5;28;01mTrue\u001b[39;00m]\n\u001b[1;32m----> 2\u001b[0m \u001b[43mLi\u001b[49m\u001b[38;5;241;43m.\u001b[39;49m\u001b[43mremove\u001b[49m\u001b[43m(\u001b[49m\u001b[38;5;241;43m2\u001b[39;49m\u001b[43m)\u001b[49m   \u001b[38;5;66;03m#first bracket means index 2\u001b[39;00m\n\u001b[0;32m      3\u001b[0m \u001b[38;5;28mprint\u001b[39m(Li)\n",
      "\u001b[1;31mValueError\u001b[0m: list.remove(x): x not in list"
     ]
    }
   ],
   "source": [
    "Li = [1,3,5,[2,3],True]\n",
    "Li.remove(2)   #first bracket means index 2\n",
    "print(Li)\n"
   ]
  },
  {
   "cell_type": "code",
   "execution_count": 24,
   "id": "987bef1f",
   "metadata": {},
   "outputs": [
    {
     "name": "stdout",
     "output_type": "stream",
     "text": [
      "[1, 3, 5, [3, 3], False]\n"
     ]
    }
   ],
   "source": [
    "Li[3][0]=3\n",
    "Li[-1]=False\n",
    "print(Li)"
   ]
  },
  {
   "cell_type": "markdown",
   "id": "40e20a3b",
   "metadata": {},
   "source": [
    "# 13. Find the intersection (common) of two sets.\n",
    "S1 = {1,4,6,8}\n",
    "S2 = {True, 1,2,10}"
   ]
  },
  {
   "cell_type": "code",
   "execution_count": 21,
   "id": "bb32c64e",
   "metadata": {},
   "outputs": [
    {
     "name": "stdout",
     "output_type": "stream",
     "text": [
      "{True}\n"
     ]
    }
   ],
   "source": [
    "S1 = {1,4,6,8} \n",
    "S2 = {True, 1,2,10}\n",
    "\n",
    "print(S1.intersection(S2))"
   ]
  },
  {
   "cell_type": "markdown",
   "id": "f0314199",
   "metadata": {},
   "source": [
    "# 14. Input a list from the user then Remove duplicates from a list and create a set and find the max\n",
    "number. User_input = [1,9,3,4,5,200,54]\n"
   ]
  },
  {
   "cell_type": "code",
   "execution_count": null,
   "id": "972ed1f8",
   "metadata": {},
   "outputs": [],
   "source": []
  },
  {
   "cell_type": "markdown",
   "id": "dbd161a1",
   "metadata": {},
   "source": [
    "# 15. Rename the key of a dictionary.\n",
    "Dict = { \"name\": \"Shakil\", \"age\":27, \"city\": “Berlin”, \"country\": \"Germany\" }\n",
    "Write a program to rename a key ‘country’ to a ‘region’ in the following dictionary."
   ]
  },
  {
   "cell_type": "code",
   "execution_count": 12,
   "id": "c8159179",
   "metadata": {},
   "outputs": [
    {
     "data": {
      "text/plain": [
       "{'name': 'Shakil', 'age': 27, 'city': 'Berlin', 'country': 'Germany'}"
      ]
     },
     "execution_count": 12,
     "metadata": {},
     "output_type": "execute_result"
    }
   ],
   "source": [
    "Dict = { \"name\": \"Shakil\", \"age\":27, \"city\": \"Berlin\", \"country\": \"Germany\" }\n",
    "Dict"
   ]
  },
  {
   "cell_type": "code",
   "execution_count": 14,
   "id": "125e9ddd",
   "metadata": {},
   "outputs": [
    {
     "data": {
      "text/plain": [
       "{'name': 'Shakil', 'age': 27, 'city': 'Berlin', 'region': 'Germany'}"
      ]
     },
     "execution_count": 14,
     "metadata": {},
     "output_type": "execute_result"
    }
   ],
   "source": [
    "Dict[\"region\"]=Dict.pop(\"country\")\n",
    "Dict"
   ]
  },
  {
   "cell_type": "markdown",
   "id": "22765269",
   "metadata": {},
   "source": [
    "# 16. Creating a data frame using the list.\n",
    "num = [10,100,300] (column name is number)"
   ]
  },
  {
   "cell_type": "code",
   "execution_count": 15,
   "id": "9e933103",
   "metadata": {},
   "outputs": [],
   "source": [
    "import pandas as pd"
   ]
  },
  {
   "cell_type": "code",
   "execution_count": 16,
   "id": "8f65152c",
   "metadata": {},
   "outputs": [
    {
     "data": {
      "text/html": [
       "<div>\n",
       "<style scoped>\n",
       "    .dataframe tbody tr th:only-of-type {\n",
       "        vertical-align: middle;\n",
       "    }\n",
       "\n",
       "    .dataframe tbody tr th {\n",
       "        vertical-align: top;\n",
       "    }\n",
       "\n",
       "    .dataframe thead th {\n",
       "        text-align: right;\n",
       "    }\n",
       "</style>\n",
       "<table border=\"1\" class=\"dataframe\">\n",
       "  <thead>\n",
       "    <tr style=\"text-align: right;\">\n",
       "      <th></th>\n",
       "      <th>0</th>\n",
       "    </tr>\n",
       "  </thead>\n",
       "  <tbody>\n",
       "    <tr>\n",
       "      <th>0</th>\n",
       "      <td>10</td>\n",
       "    </tr>\n",
       "    <tr>\n",
       "      <th>1</th>\n",
       "      <td>100</td>\n",
       "    </tr>\n",
       "    <tr>\n",
       "      <th>2</th>\n",
       "      <td>300</td>\n",
       "    </tr>\n",
       "  </tbody>\n",
       "</table>\n",
       "</div>"
      ],
      "text/plain": [
       "     0\n",
       "0   10\n",
       "1  100\n",
       "2  300"
      ]
     },
     "execution_count": 16,
     "metadata": {},
     "output_type": "execute_result"
    }
   ],
   "source": [
    "num = [10,100,300]\n",
    "df=pd.DataFrame(num)\n",
    "df"
   ]
  },
  {
   "cell_type": "markdown",
   "id": "50670bf4",
   "metadata": {},
   "source": [
    "# 17. Change the value of a key in a given dictionary.\n",
    "Write a Python program to change ‘age’ to 28 in the following dictionary.\n",
    "Dict = { \"name\": \"Shakil\", \"age\":27, \"city\": “Berlin”, \"country\": \"Germany\" }"
   ]
  },
  {
   "cell_type": "code",
   "execution_count": 19,
   "id": "fce97fa9",
   "metadata": {},
   "outputs": [
    {
     "data": {
      "text/plain": [
       "{'name': 'Shakil', 'age': 27, 'city': 'Berlin', 'country': 'Germany'}"
      ]
     },
     "execution_count": 19,
     "metadata": {},
     "output_type": "execute_result"
    }
   ],
   "source": [
    "Dict = { \"name\": \"Shakil\", \"age\":27, \"city\": \"Berlin\", \"country\": \"Germany\" }\n",
    "Dict"
   ]
  },
  {
   "cell_type": "code",
   "execution_count": 20,
   "id": "df2d75b8",
   "metadata": {},
   "outputs": [
    {
     "data": {
      "text/plain": [
       "{'name': 'Shakil', 'age': 28, 'city': 'Berlin', 'country': 'Germany'}"
      ]
     },
     "execution_count": 20,
     "metadata": {},
     "output_type": "execute_result"
    }
   ],
   "source": [
    "Dict[\"age\"]=28\n",
    "Dict"
   ]
  },
  {
   "cell_type": "code",
   "execution_count": null,
   "id": "1f32bc68",
   "metadata": {},
   "outputs": [],
   "source": []
  }
 ],
 "metadata": {
  "kernelspec": {
   "display_name": "Python 3 (ipykernel)",
   "language": "python",
   "name": "python3"
  },
  "language_info": {
   "codemirror_mode": {
    "name": "ipython",
    "version": 3
   },
   "file_extension": ".py",
   "mimetype": "text/x-python",
   "name": "python",
   "nbconvert_exporter": "python",
   "pygments_lexer": "ipython3",
   "version": "3.11.2"
  }
 },
 "nbformat": 4,
 "nbformat_minor": 5
}
