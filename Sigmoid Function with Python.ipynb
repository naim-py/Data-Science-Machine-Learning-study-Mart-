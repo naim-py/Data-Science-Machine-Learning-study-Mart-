{
 "cells": [
  {
   "cell_type": "code",
   "execution_count": 1,
   "id": "af4208e3",
   "metadata": {},
   "outputs": [],
   "source": [
    "import math"
   ]
  },
  {
   "cell_type": "code",
   "execution_count": 2,
   "id": "f61a10b9",
   "metadata": {},
   "outputs": [
    {
     "name": "stdout",
     "output_type": "stream",
     "text": [
      "0.9999628310628971\n"
     ]
    }
   ],
   "source": [
    "def sigmoid(x):\n",
    "    return 1/(1+math.exp(-x))\n",
    "print(sigmoid(10.2))"
   ]
  },
  {
   "cell_type": "code",
   "execution_count": 3,
   "id": "120b81d7",
   "metadata": {},
   "outputs": [
    {
     "name": "stdout",
     "output_type": "stream",
     "text": [
      "0.9999445514752772\n"
     ]
    }
   ],
   "source": [
    "print(sigmoid(9.8))"
   ]
  },
  {
   "cell_type": "code",
   "execution_count": 4,
   "id": "c689974f",
   "metadata": {},
   "outputs": [
    {
     "name": "stdout",
     "output_type": "stream",
     "text": [
      "4.107786776476334e-05\n"
     ]
    }
   ],
   "source": [
    "print(sigmoid(-10.10))"
   ]
  },
  {
   "cell_type": "code",
   "execution_count": null,
   "id": "ba3883c7",
   "metadata": {},
   "outputs": [],
   "source": []
  }
 ],
 "metadata": {
  "kernelspec": {
   "display_name": "Python 3 (ipykernel)",
   "language": "python",
   "name": "python3"
  },
  "language_info": {
   "codemirror_mode": {
    "name": "ipython",
    "version": 3
   },
   "file_extension": ".py",
   "mimetype": "text/x-python",
   "name": "python",
   "nbconvert_exporter": "python",
   "pygments_lexer": "ipython3",
   "version": "3.11.2"
  }
 },
 "nbformat": 4,
 "nbformat_minor": 5
}
