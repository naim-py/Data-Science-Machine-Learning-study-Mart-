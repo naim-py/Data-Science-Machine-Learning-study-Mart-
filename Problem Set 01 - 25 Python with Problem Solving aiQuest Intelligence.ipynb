{
 "cells": [
  {
   "cell_type": "markdown",
   "id": "a9419d57",
   "metadata": {},
   "source": [
    "# 1. Write a program to find the sum of all numbers from 1 to N."
   ]
  },
  {
   "cell_type": "code",
   "execution_count": 1,
   "id": "2054aca8",
   "metadata": {},
   "outputs": [
    {
     "name": "stdin",
     "output_type": "stream",
     "text": [
      " 5\n"
     ]
    },
    {
     "name": "stdout",
     "output_type": "stream",
     "text": [
      "Sum :  10\n"
     ]
    }
   ],
   "source": [
    "N=int(input())\n",
    "s=0\n",
    "for i in range(1,N):\n",
    "    s +=i\n",
    "print('Sum : ',s)"
   ]
  },
  {
   "cell_type": "markdown",
   "id": "9e35789c",
   "metadata": {},
   "source": [
    "# 2. Given a list of integers, find the maximum and minimum elements."
   ]
  },
  {
   "cell_type": "code",
   "execution_count": 2,
   "id": "9e24ac89",
   "metadata": {},
   "outputs": [
    {
     "name": "stdout",
     "output_type": "stream",
     "text": [
      "Maximum number =  9\n",
      "Minimum number =  1\n",
      "Maximum element =  9\n",
      "Minimum element =  1\n"
     ]
    }
   ],
   "source": [
    "l=[1,2,4,3,7,4,8,9,3,8]\n",
    "max_num = max(l)\n",
    "min_num = min(l)\n",
    "print(\"Maximum number = \",max_num)\n",
    "print(\"Minimum number = \",min_num)\n",
    "\n",
    "#using Logic\n",
    "def find_max_min_elements(lst):\n",
    "    if not lst:\n",
    "        return None, None\n",
    "\n",
    "    max_value = lst[0]\n",
    "    min_value = lst[0]\n",
    "\n",
    "    for num in lst:\n",
    "        if num > max_value:\n",
    "            max_value = num\n",
    "        elif num < min_value:\n",
    "            min_value = num\n",
    "\n",
    "    return max_value, min_value\n",
    "\n",
    "max_value, min_value = find_max_min_elements(l)\n",
    "\n",
    "print(\"Maximum element = \", max_value)\n",
    "print(\"Minimum element = \", min_value)\n"
   ]
  },
  {
   "cell_type": "markdown",
   "id": "7383e21e-b41f-446d-b7b9-560aa8e14b9c",
   "metadata": {},
   "source": [
    "# 3. Write a program to check if a given number is prime."
   ]
  },
  {
   "cell_type": "code",
   "execution_count": 3,
   "id": "a0220f8b-8fde-4071-86d4-1f25f106611f",
   "metadata": {},
   "outputs": [
    {
     "name": "stdin",
     "output_type": "stream",
     "text": [
      "Enter a number 903852\n"
     ]
    },
    {
     "name": "stdout",
     "output_type": "stream",
     "text": [
      "903852 is not prime\n"
     ]
    }
   ],
   "source": [
    "def is_number(n):\n",
    "    if n <2:\n",
    "        return False\n",
    "    for i in range(2, int(n**.5)+1):   #n**.5 for borgomul find\n",
    "        if n%i==0:\n",
    "            return False\n",
    "    return True\n",
    "\n",
    "num = int(input('Enter a number'))\n",
    "if is_number(num):\n",
    "    print(f\"{num} is prime\")\n",
    "else:\n",
    "    print(f\"{num} is not prime\")\n",
    "\n"
   ]
  },
  {
   "cell_type": "markdown",
   "id": "4c1c7baa-3e8d-44c0-bd00-bca0b8d56999",
   "metadata": {},
   "source": [
    "# 4. Find the factorial of a given number."
   ]
  },
  {
   "cell_type": "code",
   "execution_count": 19,
   "id": "edd6522f-0829-4557-8b41-d0267951629d",
   "metadata": {},
   "outputs": [
    {
     "name": "stdin",
     "output_type": "stream",
     "text": [
      "Enter a number:  12\n"
     ]
    },
    {
     "name": "stdout",
     "output_type": "stream",
     "text": [
      "The factorial of 12 is: 479001600\n"
     ]
    }
   ],
   "source": [
    "def factorial(n):\n",
    "    if n == 0 or n == 1:\n",
    "        return 1\n",
    "    else:\n",
    "        return n * factorial(n - 1)\n",
    "\n",
    "num = int(input(\"Enter a number: \"))\n",
    "result = factorial(num)\n",
    "\n",
    "print(f\"The factorial of {num} is: {result}\")\n"
   ]
  },
  {
   "cell_type": "markdown",
   "id": "76c71279-796c-441a-81d2-95a018591cf0",
   "metadata": {},
   "source": [
    "# 5. Count the number of vowels in a string."
   ]
  },
  {
   "cell_type": "code",
   "execution_count": 21,
   "id": "6315ffec-c9a8-45b5-8fa0-2979883279ab",
   "metadata": {},
   "outputs": [
    {
     "name": "stdin",
     "output_type": "stream",
     "text": [
      "Enter any string :  naimhowoqu\n"
     ]
    },
    {
     "name": "stdout",
     "output_type": "stream",
     "text": [
      "Number of vowels  5\n"
     ]
    }
   ],
   "source": [
    "def vowel_count(str):\n",
    "    vowels = 'aeiouAEIOU'\n",
    "    counts =0\n",
    "    for i in str:\n",
    "        if i in vowels:\n",
    "            counts +=1\n",
    "    return counts\n",
    "\n",
    "input_string = input(\"Enter any string : \")\n",
    "count_vowel = vowel_count(input_string)\n",
    "print('Number of vowels ',count_vowel)"
   ]
  },
  {
   "cell_type": "markdown",
   "id": "c49891e9-2a85-4727-9a35-0d48fcc8dd7f",
   "metadata": {},
   "source": [
    "# 6. Check if a given string is a palindrome."
   ]
  },
  {
   "cell_type": "code",
   "execution_count": 22,
   "id": "9ce2ffdf-4706-4746-be5b-04ee8ddb012c",
   "metadata": {},
   "outputs": [
    {
     "name": "stdin",
     "output_type": "stream",
     "text": [
      "Enter a string:  A man a plan a canal Panama\n"
     ]
    },
    {
     "name": "stdout",
     "output_type": "stream",
     "text": [
      "A man a plan a canal Panama is a palindrome.\n"
     ]
    }
   ],
   "source": [
    "def is_palindrome(input_string):\n",
    "    # Remove spaces and convert to lowercase for case-insensitive comparison\n",
    "    #For example,\"A man a plan a canal Panama,\" this line would convert it to \"amanaplanacanalPanama,\" removing spaces.\n",
    "    cleaned_string = input_string.replace(\" \", \"\").lower()\n",
    "\n",
    "    # Check if the cleaned string is equal to its reverse\n",
    "    return cleaned_string == cleaned_string[::-1]\n",
    "\n",
    "input_str = input(\"Enter a string: \") #A man a plan a canal Panama\n",
    "\n",
    "if is_palindrome(input_str):\n",
    "    print(f\"{input_str} is a palindrome.\")\n",
    "else:\n",
    "    print(f\"{input_str} is not a palindrome.\")"
   ]
  },
  {
   "cell_type": "markdown",
   "id": "f9ed0528-49dc-48ed-9437-f8ad5bf232b8",
   "metadata": {},
   "source": [
    "# 7. Reverse a given list of integers."
   ]
  },
  {
   "cell_type": "code",
   "execution_count": 26,
   "id": "5fe3e717-d15a-4061-8598-3b562e0dc40d",
   "metadata": {},
   "outputs": [
    {
     "name": "stdout",
     "output_type": "stream",
     "text": [
      "Reversed list: [5, 4, 3, 2, 1]\n",
      "Reversed list: [5, 4, 3, 2]\n"
     ]
    }
   ],
   "source": [
    "l = [1, 2, 3, 4, 5]\n",
    "\n",
    "l.reverse()\n",
    "print(\"Reversed list:\",l)\n",
    "\n",
    "#using slicing  \n",
    "reversed_list = l[::-1]   # to reverse [::-1]\n",
    "print(\"Reversed list:\", reversed_list)\n"
   ]
  },
  {
   "cell_type": "markdown",
   "id": "3b045f47-6df7-4780-bfd2-d3256d6b411f",
   "metadata": {},
   "source": [
    "# 8. Find the second largest element in a list of integers.\n"
   ]
  },
  {
   "cell_type": "code",
   "execution_count": null,
   "id": "cae5c889-0b5e-4b34-b76d-f3d728ee8210",
   "metadata": {},
   "outputs": [],
   "source": [
    "def second_largest(nums):\n",
    "    if len(nums) < 2:\n",
    "        return \"List should have at least two elements\"\n",
    "\n",
    "    # Find the maximum element\n",
    "    max_value = max(nums)\n",
    "\n",
    "    # Remove the maximum number from the list\n",
    "    nums = [num for num in nums if num != max_value]\n",
    "\n",
    "    # Find the maximum element in the modified list (now the second largest)\n",
    "    second_largest_value = max(nums)\n",
    "\n",
    "    return second_largest_value\n",
    "\n",
    "l = [3, 1, 4, 1, 5, 9, 2, 6, 5, 3, 5]\n",
    "\n",
    "result = second_largest(l)\n",
    "\n",
    "print(\"Second largest element:\", result)\n"
   ]
  },
  {
   "cell_type": "markdown",
   "id": "d71b07ea-6703-4313-8cca-23d564aec281",
   "metadata": {},
   "source": [
    "# 9. Write a program to remove duplicates from a list."
   ]
  },
  {
   "cell_type": "code",
   "execution_count": 33,
   "id": "8480b2b2-2e5e-4241-a69a-a75374d03a96",
   "metadata": {},
   "outputs": [
    {
     "name": "stdout",
     "output_type": "stream",
     "text": [
      "List with duplicates: [1, 2, 3, 2, 4, 5, 5, 6, 7, 8, 7]\n",
      "List without duplicates: [1, 2, 3, 4, 5, 6, 7, 8]\n"
     ]
    }
   ],
   "source": [
    "def remove_duplicates(input_list):\n",
    "    # Use a set to keep track of unique elements\n",
    "    unique_set = set()\n",
    "    \n",
    "    # Create a new list with unique elements in the original order\n",
    "    unique_list = []\n",
    "    \n",
    "    for item in input_list:\n",
    "        if item not in unique_set:\n",
    "            unique_set.add(item)\n",
    "            unique_list.append(item)\n",
    "    \n",
    "    return unique_list\n",
    "\n",
    "l = [1, 2, 3, 2, 4, 5, 5, 6, 7, 8, 7]\n",
    "\n",
    "result = remove_duplicates(l)\n",
    "\n",
    "print(\"List with duplicates:\", l)\n",
    "print(\"List without duplicates:\", result)\n"
   ]
  },
  {
   "cell_type": "markdown",
   "id": "b369edfe-2bff-4eea-bc98-eb60c9eac4ac",
   "metadata": {},
   "source": [
    "# 10. Given a list of integers, find the average.\n"
   ]
  },
  {
   "cell_type": "code",
   "execution_count": 4,
   "id": "ba4263e1-a955-4e9e-a7ec-126be70fc1f5",
   "metadata": {},
   "outputs": [
    {
     "name": "stdout",
     "output_type": "stream",
     "text": [
      "The average of the list is: 3.0\n"
     ]
    }
   ],
   "source": [
    "def find_average(numbers):\n",
    "    average = sum(numbers) / len(numbers)\n",
    "\n",
    "    return average\n",
    "\n",
    "my_list = [1, 2, 3, 4, 5]\n",
    "\n",
    "average_value = find_average(my_list)\n",
    "print(f\"The average of the list is: {average_value}\")\n"
   ]
  },
  {
   "cell_type": "markdown",
   "id": "f93c80bf-735c-4f9e-88de-0134f0c2d80f",
   "metadata": {},
   "source": [
    "# 11. Check if the two lists are equal."
   ]
  },
  {
   "cell_type": "code",
   "execution_count": 53,
   "id": "0781df8b-5c94-4944-a26d-ccaad70b4c53",
   "metadata": {},
   "outputs": [
    {
     "name": "stdout",
     "output_type": "stream",
     "text": [
      "The lists are equal.\n"
     ]
    }
   ],
   "source": [
    "list1 = [1, 2, 3, 4, 5]\n",
    "list2 = [1, 2, 3, 4, 5]\n",
    "\n",
    "# Check if the two lists are equal\n",
    "if list1 == list2:\n",
    "    print(\"The lists are equal.\")\n",
    "else:\n",
    "    print(\"The lists are not equal.\")\n"
   ]
  },
  {
   "cell_type": "markdown",
   "id": "16eefba5-e65f-42b3-a7c3-d43c1bfe71e6",
   "metadata": {},
   "source": [
    "# 12. Find the intersection of two lists."
   ]
  },
  {
   "cell_type": "code",
   "execution_count": 5,
   "id": "10cdbacc-6a32-4907-b9f9-aa38b4e6162e",
   "metadata": {},
   "outputs": [
    {
     "name": "stdout",
     "output_type": "stream",
     "text": [
      "Intersection of the two lists: [3, 4, 5]\n"
     ]
    }
   ],
   "source": [
    "list1 = [1, 2, 3, 4, 5]\n",
    "list2 = [3, 4, 5, 6, 7]\n",
    "# Find the intersection of the two lists\n",
    "intersection_result = list(set(list1).intersection(list2))\n",
    "\n",
    "print(\"Intersection of the two lists:\", intersection_result)\n"
   ]
  },
  {
   "cell_type": "markdown",
   "id": "f5c6c123-7ed9-4e00-881d-67c3aedfb08a",
   "metadata": {},
   "source": [
    "# 13. Given a list of integers, remove all the even numbers."
   ]
  },
  {
   "cell_type": "code",
   "execution_count": 7,
   "id": "4355adff-b1b6-443c-8820-66498d672792",
   "metadata": {},
   "outputs": [
    {
     "data": {
      "text/plain": [
       "[1, 3, 5, 7]"
      ]
     },
     "execution_count": 7,
     "metadata": {},
     "output_type": "execute_result"
    }
   ],
   "source": [
    "l=[1,2,3,4,5,6,7,8]\n",
    "filter_list = [num for num in l if num%2 !=0] # this is list that contain which jegula sonkhar vagses 0 hbe na\n",
    "filter_list"
   ]
  },
  {
   "cell_type": "markdown",
   "id": "df75d7bc-fc20-4489-906e-1efd858a1942",
   "metadata": {},
   "source": [
    "# 14. Given a list of strings, concatenate them into a single string."
   ]
  },
  {
   "cell_type": "code",
   "execution_count": 9,
   "id": "ffd3a0fa-42e6-4f78-8fba-08ea17f0afbc",
   "metadata": {},
   "outputs": [
    {
     "name": "stdout",
     "output_type": "stream",
     "text": [
      "Original List of Strings: ['Hello', ' ', 'World', '!']\n",
      "Concatenated String: Hello World!\n"
     ]
    }
   ],
   "source": [
    "string_list = [\"Naim\", \" \", \"Hossain\", \"!\"]\n",
    "\n",
    "concatenated_string = ''.join(string_list)\n",
    "\n",
    "print(\"Original List of Strings:\", string_list)\n",
    "print(\"Concatenated String:\", concatenated_string)\n"
   ]
  },
  {
   "cell_type": "markdown",
   "id": "d033da9a-d8e4-4747-9f3a-efb003a9979b",
   "metadata": {},
   "source": [
    "# 15. Find the number of occurrences of a specific element in a list."
   ]
  },
  {
   "cell_type": "code",
   "execution_count": 10,
   "id": "ad3f54b2-0289-4ca8-89e0-fd0bcc9f82c1",
   "metadata": {},
   "outputs": [
    {
     "name": "stdout",
     "output_type": "stream",
     "text": [
      "Original List: [1, 2, 3, 4, 2, 5, 2, 6, 2, 7]\n",
      "Number of occurrences of 2: 4\n"
     ]
    }
   ],
   "source": [
    "my_list = [1, 2, 3, 4, 2, 5, 2, 6, 2, 7]\n",
    "\n",
    "target_element = 2\n",
    "\n",
    "occurrences = my_list.count(target_element)\n",
    "\n",
    "print(\"Original List:\", my_list)\n",
    "print(f\"Number of occurrences of {target_element}: {occurrences}\")\n"
   ]
  },
  {
   "cell_type": "markdown",
   "id": "6697daa2-7dd4-468f-8fc9-46b0e0ac6aa2",
   "metadata": {},
   "source": [
    "# 16. Remove the duplicates from a string."
   ]
  },
  {
   "cell_type": "code",
   "execution_count": 11,
   "id": "100c39e6-584e-408b-9555-17fd0908a080",
   "metadata": {},
   "outputs": [
    {
     "name": "stdout",
     "output_type": "stream",
     "text": [
      "Original String: hello world\n",
      "String with Duplicates Removed: how rlde\n"
     ]
    }
   ],
   "source": [
    "original_string = \"hello world\"\n",
    "# Remove duplicates using a set\n",
    "unique_characters = set(original_string)\n",
    "\n",
    "# Join the unique characters to form the new string\n",
    "result_string = ''.join(unique_characters)\n",
    "\n",
    "print(\"Original String:\", original_string)\n",
    "print(\"String with Duplicates Removed:\", result_string)\n"
   ]
  },
  {
   "cell_type": "markdown",
   "id": "5208f9ac-bd54-4226-8d21-ee60c3144da8",
   "metadata": {},
   "source": [
    "# 17. Count the number of words in a sentence."
   ]
  },
  {
   "cell_type": "code",
   "execution_count": 12,
   "id": "70ccba95-721f-40f9-b3f2-de408d2c0824",
   "metadata": {},
   "outputs": [
    {
     "name": "stdout",
     "output_type": "stream",
     "text": [
      "Original Sentence: This is a sample sentence.\n",
      "Number of Words: 5\n"
     ]
    }
   ],
   "source": [
    "sentence = \"This is a sample sentence.\"\n",
    "\n",
    "# Split the sentence into words\n",
    "words = sentence.split()\n",
    "\n",
    "# Count the number of words\n",
    "num_words = len(words)\n",
    "\n",
    "print(\"Original Sentence:\", sentence)\n",
    "print(\"Number of Words:\", num_words)\n"
   ]
  },
  {
   "cell_type": "markdown",
   "id": "971588ee-d456-4b5a-868e-7464261e32ec",
   "metadata": {},
   "source": [
    "# 18. Write a program to check if a given string is a pangram."
   ]
  },
  {
   "cell_type": "code",
   "execution_count": 13,
   "id": "05aae0d8-18ea-4f91-9e57-612ecb518241",
   "metadata": {},
   "outputs": [
    {
     "name": "stdout",
     "output_type": "stream",
     "text": [
      "The sentence \"The quick brown fox jumps over the lazy dog\" is a pangram.\n"
     ]
    }
   ],
   "source": [
    "def is_pangram(sentence):\n",
    "    alphabet = \"abcdefghijklmnopqrstuvwxyz\"\n",
    "\n",
    "    # Convert the sentence to lowercase for case-insensitive comparison\n",
    "    sentence_lower = sentence.lower()\n",
    "\n",
    "    # Check if each letter in the alphabet is present in the sentence\n",
    "    for letter in alphabet:\n",
    "        if letter not in sentence_lower:\n",
    "            return False\n",
    "\n",
    "    return True\n",
    "\n",
    "input_sentence = \"The quick brown fox jumps over the lazy dog\"\n",
    "result = is_pangram(input_sentence)\n",
    "\n",
    "if result:\n",
    "    print(f'The sentence \"{input_sentence}\" is a pangram.')\n",
    "else:\n",
    "    print(f'The sentence \"{input_sentence}\" is not a pangram.')\n"
   ]
  },
  {
   "cell_type": "markdown",
   "id": "2f7edfe5-84e6-4662-9639-a006c899017a",
   "metadata": {},
   "source": [
    "# 19. Calculate the sum of digits in a number."
   ]
  },
  {
   "cell_type": "code",
   "execution_count": 14,
   "id": "874b3beb-89e4-491f-9ad9-e1badf79cd05",
   "metadata": {},
   "outputs": [
    {
     "name": "stdout",
     "output_type": "stream",
     "text": [
      "The sum of digits in 12345 is: 15\n"
     ]
    }
   ],
   "source": [
    "def sum_of_digits(number):\n",
    "    number_str = str(number)\n",
    "    digit_sum = 0\n",
    "\n",
    "    for digit_str in number_str:\n",
    "        digit_sum += int(digit_str)\n",
    "    \n",
    "    return digit_sum\n",
    "\n",
    "input_number = 12345\n",
    "result = sum_of_digits(input_number)\n",
    "\n",
    "print(f\"The sum of digits in {input_number} is: {result}\")\n"
   ]
  },
  {
   "cell_type": "markdown",
   "id": "78b6a1b2-51ef-454c-b87f-20dea4cf36c7",
   "metadata": {},
   "source": [
    "# 20. Given a list of integers, find the product of all the elements."
   ]
  },
  {
   "cell_type": "code",
   "execution_count": 15,
   "id": "091e8064-4e9c-418e-aaba-e934fcbd8d1f",
   "metadata": {},
   "outputs": [
    {
     "name": "stdout",
     "output_type": "stream",
     "text": [
      "Original List: [2, 3, 4, 5, 6]\n",
      "Product of All Elements: 720\n"
     ]
    }
   ],
   "source": [
    "number_list = [2, 3, 4, 5, 6]\n",
    "product = 1\n",
    "for num in number_list:\n",
    "    product *= num\n",
    "\n",
    "print(\"Original List:\", number_list)\n",
    "print(\"Product of All Elements:\", product)\n"
   ]
  },
  {
   "cell_type": "markdown",
   "id": "0dccd2ca-4745-4bf9-bfbe-633600176b4a",
   "metadata": {},
   "source": [
    "# 21. Check if a given number is a perfect square."
   ]
  },
  {
   "cell_type": "code",
   "execution_count": 16,
   "id": "5ff19f04-e795-4681-b8dd-e312cc70ca9a",
   "metadata": {},
   "outputs": [
    {
     "name": "stdout",
     "output_type": "stream",
     "text": [
      "25 is a perfect square.\n"
     ]
    }
   ],
   "source": [
    "def is_perfect_square(number):\n",
    "    # Check if the square root is an integer\n",
    "    square_root = int(number ** 0.5)\n",
    "    return square_root ** 2 == number\n",
    "\n",
    "input_number = 25\n",
    "result = is_perfect_square(input_number)\n",
    "\n",
    "if result:\n",
    "    print(f\"{input_number} is a perfect square.\")\n",
    "else:\n",
    "    print(f\"{input_number} is not a perfect square.\")\n"
   ]
  },
  {
   "cell_type": "markdown",
   "id": "a6119599-cc3e-4ad4-9947-1142de69d1d2",
   "metadata": {},
   "source": [
    "# 22. Find the length of the longest word in a sentence."
   ]
  },
  {
   "cell_type": "code",
   "execution_count": null,
   "id": "260de862-6a68-430d-89fb-0902b50ec40a",
   "metadata": {},
   "outputs": [],
   "source": [
    "def longest_word_length(sentence):\n",
    "    # Split the sentence into words\n",
    "    words = sentence.split()\n",
    "    longest_length = 0\n",
    "    # Iterate through each word and update the longest length if needed\n",
    "    for word in words:\n",
    "        current_length = len(word)\n",
    "        if current_length > longest_length:\n",
    "            longest_length = current_length\n",
    "\n",
    "    return longest_length\n",
    "\n",
    "input_sentence = \"This is a sample sentence with some long words.\"\n",
    "result = longest_word_length(input_sentence)\n",
    "\n",
    "print(\"Original Sentence:\", input_sentence)\n",
    "print(\"Length of Longest Word:\", result)\n"
   ]
  },
  {
   "cell_type": "markdown",
   "id": "8b4c84e2-ca29-45ff-9b51-3273c8d32145",
   "metadata": {},
   "source": [
    "# 23. Calculate the average of all the even numbers in a list.\n"
   ]
  },
  {
   "cell_type": "code",
   "execution_count": 17,
   "id": "41710159-4381-4d10-abef-d9db9946e27b",
   "metadata": {},
   "outputs": [
    {
     "name": "stdout",
     "output_type": "stream",
     "text": [
      "Original List: [1, 2, 3, 4, 5, 6, 7, 8, 9, 10]\n",
      "Average of Even Numbers: 6.0\n"
     ]
    }
   ],
   "source": [
    "def average_of_even_numbers(number_list):\n",
    "    even_numbers = [num for num in number_list if num % 2 == 0]   #this is even num list\n",
    "\n",
    "    if len(even_numbers) == 0:\n",
    "        return 0  # or handle it in a way that makes sense for your application\n",
    "\n",
    "    average = sum(even_numbers) / len(even_numbers)\n",
    "    return average\n",
    "\n",
    "numbers = [1, 2, 3, 4, 5, 6, 7, 8, 9, 10]\n",
    "result = average_of_even_numbers(numbers)\n",
    "\n",
    "print(\"Original List:\", numbers)\n",
    "print(\"Average of Even Numbers:\", result)\n"
   ]
  },
  {
   "cell_type": "markdown",
   "id": "0766363d-e421-49c7-9e07-bca19163a989",
   "metadata": {},
   "source": [
    "# 24. Given a list of integers, find the median."
   ]
  },
  {
   "cell_type": "code",
   "execution_count": 24,
   "id": "9b389306-7708-4921-838b-02d32ffbdb23",
   "metadata": {},
   "outputs": [
    {
     "name": "stdout",
     "output_type": "stream",
     "text": [
      "Sorted list =  [1, 3, 4, 5, 6, 7, 8, 9]\n",
      "Median: 5.5\n"
     ]
    }
   ],
   "source": [
    "def find_median(number_list):\n",
    "    sorted_list = sorted(number_list)\n",
    "    print(\"Sorted list = \",sorted_list)\n",
    "    length = len(sorted_list)\n",
    "\n",
    "    # Check if the length of the list is even or odd\n",
    "    if length % 2 == 0:\n",
    "        # If even, think about index of list\n",
    "        middle1 = sorted_list[length // 2 - 1]  # for // is integer division\n",
    "        middle2 = sorted_list[length // 2]\n",
    "        median = (middle1 + middle2) / 2\n",
    "        #print(middle2)\n",
    "    else:\n",
    "        median = sorted_list[length // 2]\n",
    "\n",
    "    return median\n",
    "\n",
    "numbers = [4, 7, 1, 9, 3, 6, 5, 8]\n",
    "result = find_median(numbers)\n",
    "\n",
    "print(\"Median:\", result)\n"
   ]
  },
  {
   "cell_type": "markdown",
   "id": "c5d315b1-b7dd-46a3-bcbb-ca29f31c7553",
   "metadata": {},
   "source": [
    "# 25. Check if a given string is an anagram of another string."
   ]
  },
  {
   "cell_type": "code",
   "execution_count": 25,
   "id": "d46877de-3923-4b38-a885-64e80f6b51ac",
   "metadata": {},
   "outputs": [
    {
     "name": "stdin",
     "output_type": "stream",
     "text": [
      "Enter the first string:  naimapeio\n",
      "Enter the second string:  apodjiaod\n"
     ]
    },
    {
     "name": "stdout",
     "output_type": "stream",
     "text": [
      "naimapeio and apodjiaod are not anagrams.\n"
     ]
    }
   ],
   "source": [
    "def are_anagrams(str1, str2):\n",
    "    # Remove spaces and convert to lowercase for case-insensitive comparison\n",
    "    str1 = str1.replace(\" \", \"\").lower()\n",
    "    str2 = str2.replace(\" \", \"\").lower()\n",
    "\n",
    "    # Check if the sorted characters in both strings are the same\n",
    "    return sorted(str1) == sorted(str2)\n",
    "\n",
    "# Example: Check if two strings are anagrams\n",
    "string1 = input(\"Enter the first string: \")\n",
    "string2 = input(\"Enter the second string: \")\n",
    "\n",
    "if are_anagrams(string1, string2):\n",
    "    print(f\"{string1} and {string2} are anagrams.\")\n",
    "else:\n",
    "    print(f\"{string1} and {string2} are not anagrams.\")\n"
   ]
  },
  {
   "cell_type": "code",
   "execution_count": null,
   "id": "5aadf59c-4219-46d5-afea-697ea608ebdd",
   "metadata": {},
   "outputs": [],
   "source": []
  },
  {
   "cell_type": "code",
   "execution_count": null,
   "id": "1e4f2e3c-5c13-4755-9de5-2e335412d127",
   "metadata": {},
   "outputs": [],
   "source": []
  }
 ],
 "metadata": {
  "kernelspec": {
   "display_name": "Python 3 (ipykernel)",
   "language": "python",
   "name": "python3"
  },
  "language_info": {
   "codemirror_mode": {
    "name": "ipython",
    "version": 3
   },
   "file_extension": ".py",
   "mimetype": "text/x-python",
   "name": "python",
   "nbconvert_exporter": "python",
   "pygments_lexer": "ipython3",
   "version": "3.9.10"
  },
  "widgets": {
   "application/vnd.jupyter.widget-state+json": {
    "state": {},
    "version_major": 2,
    "version_minor": 0
   }
  }
 },
 "nbformat": 4,
 "nbformat_minor": 5
}
