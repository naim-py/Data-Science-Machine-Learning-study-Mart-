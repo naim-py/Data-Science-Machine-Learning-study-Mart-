{
 "cells": [
  {
   "cell_type": "code",
   "execution_count": null,
   "id": "88167598-adfe-4e8b-a83d-9ea5ad62d423",
   "metadata": {},
   "outputs": [],
   "source": []
  },
  {
   "cell_type": "markdown",
   "id": "f1c94af4-46ce-467b-975c-aad64c968946",
   "metadata": {},
   "source": [
    "# 26. Write a program to reverse a string."
   ]
  },
  {
   "cell_type": "code",
   "execution_count": 1,
   "id": "1c2cfc8b-33eb-47d1-a794-040e8795ddfa",
   "metadata": {},
   "outputs": [
    {
     "name": "stdout",
     "output_type": "stream",
     "text": [
      "Original String: Hello, World!\n",
      "Reversed String: !dlroW ,olleH\n"
     ]
    }
   ],
   "source": [
    "def reverse_string(input_string):\n",
    "    reversed_string = input_string[::-1]\n",
    "    return reversed_string\n",
    "\n",
    "original_string = \"Hello, World!\"\n",
    "reversed_result = reverse_string(original_string)\n",
    "\n",
    "print(f\"Original String: {original_string}\")\n",
    "print(f\"Reversed String: {reversed_result}\")\n"
   ]
  },
  {
   "cell_type": "markdown",
   "id": "a4aeb2a9-0985-4c3a-890b-55f5460ab8fa",
   "metadata": {},
   "source": [
    "# 27. Find the sum of all the even numbers between two given numbers."
   ]
  },
  {
   "cell_type": "code",
   "execution_count": 2,
   "id": "c11244ff-79f7-489b-bf15-c9437eb3b0f4",
   "metadata": {},
   "outputs": [
    {
     "name": "stdout",
     "output_type": "stream",
     "text": [
      "The sum of even numbers between 1 and 10 is: 30\n"
     ]
    }
   ],
   "source": [
    "def sum_of_even_numbers(start, end):\n",
    "    if start > end:\n",
    "        start, end = end, start\n",
    "\n",
    "    even_sum = 0\n",
    "\n",
    "    for num in range(start, end + 1):\n",
    "      \n",
    "        if num % 2 == 0:\n",
    "            even_sum += num\n",
    "\n",
    "    return even_sum\n",
    "\n",
    "start_number = 1\n",
    "end_number = 10\n",
    "result = sum_of_even_numbers(start_number, end_number)\n",
    "\n",
    "print(f\"The sum of even numbers between {start_number} and {end_number} is: {result}\")\n"
   ]
  },
  {
   "cell_type": "markdown",
   "id": "2a0d8029-86f8-4f2f-92f1-37b273fffdb3",
   "metadata": {},
   "source": [
    "# 28. Given a list of strings, find the longest string."
   ]
  },
  {
   "cell_type": "code",
   "execution_count": 3,
   "id": "5aa081eb-ebc2-4c8f-9864-14212f84c264",
   "metadata": {},
   "outputs": [
    {
     "name": "stdout",
     "output_type": "stream",
     "text": [
      "The longest string in the list is: strawberry\n"
     ]
    }
   ],
   "source": [
    "def find_longest_string(strings):\n",
    "    if not strings:\n",
    "        return None  #for an empty list\n",
    "\n",
    "    longest_string = strings[0]\n",
    "\n",
    "    for string in strings[1:]:\n",
    "        if len(string) > len(longest_string):\n",
    "            longest_string = string\n",
    "\n",
    "    return longest_string\n",
    "\n",
    "string_list = [\"apple\", \"banana\", \"kiwi\", \"strawberry\", \"orange\"]\n",
    "longest = find_longest_string(string_list)\n",
    "\n",
    "print(f\"The longest string in the list is: {longest}\")\n"
   ]
  },
  {
   "cell_type": "markdown",
   "id": "4de7ba51-b1e3-4a86-9615-59342414d769",
   "metadata": {},
   "source": [
    "# 29. Remove all the special characters from a string."
   ]
  },
  {
   "cell_type": "code",
   "execution_count": 4,
   "id": "4d48470a-e899-4808-a065-6ed439e54ea2",
   "metadata": {},
   "outputs": [
    {
     "name": "stdout",
     "output_type": "stream",
     "text": [
      "Original String: Hello, @World! #123\n",
      "String without special characters: Hello World 123\n"
     ]
    }
   ],
   "source": [
    "import re   # regex\n",
    "\n",
    "def remove_special_characters(input_string):\n",
    "    clean_string = re.sub('[^A-Za-z0-9 ]+', '', input_string)\n",
    "    return clean_string\n",
    "\n",
    "original_string = \"Hello, @World! #123\"\n",
    "cleaned_result = remove_special_characters(original_string)\n",
    "\n",
    "print(f\"Original String: {original_string}\")\n",
    "print(f\"String without special characters: {cleaned_result}\")\n"
   ]
  },
  {
   "cell_type": "markdown",
   "id": "d3e6cba7-65d7-4488-b83a-6a830e03b346",
   "metadata": {},
   "source": [
    "# 30. Calculate the power of a number."
   ]
  },
  {
   "cell_type": "code",
   "execution_count": 8,
   "id": "aa20d5db-b46b-40db-ad29-f17b632eb391",
   "metadata": {},
   "outputs": [
    {
     "name": "stdin",
     "output_type": "stream",
     "text": [
      "Enter a number :  4\n",
      "Enter a power :  2\n"
     ]
    },
    {
     "name": "stdout",
     "output_type": "stream",
     "text": [
      "16\n",
      "16\n"
     ]
    }
   ],
   "source": [
    "num1=int(input(\"Enter a number : \"))\n",
    "num2=int(input(\"Enter a power : \"))\n",
    "print(num1 ** num2)\n",
    "print(pow(num1,num2))"
   ]
  },
  {
   "cell_type": "markdown",
   "id": "4dd96543-85a6-49f5-8fa7-63bac0498011",
   "metadata": {},
   "source": [
    "# 31. Check if a given number is a palindrome."
   ]
  },
  {
   "cell_type": "code",
   "execution_count": null,
   "id": "20c2be66-6942-45b3-8b2f-287d8c7a5128",
   "metadata": {},
   "outputs": [],
   "source": [
    "def is_palindrome(number):\n",
    "    num_str = str(number)\n",
    "    # Compare the string with its reverse\n",
    "    return num_str == num_str[::-1]\n",
    "\n",
    "num = 121\n",
    "if is_palindrome(num):\n",
    "    print(f\"{num} is a palindrome.\")\n",
    "else:\n",
    "    print(f\"{num} is not a palindrome.\")\n"
   ]
  },
  {
   "cell_type": "markdown",
   "id": "af0afe96-21b9-454a-8ae9-92a06dcaff7d",
   "metadata": {},
   "source": [
    "# 32. Given a list of integers, find the second smallest element."
   ]
  },
  {
   "cell_type": "code",
   "execution_count": 9,
   "id": "d24906ce-f7bb-4568-b359-4bf0e644143b",
   "metadata": {},
   "outputs": [
    {
     "name": "stdout",
     "output_type": "stream",
     "text": [
      "The second smallest element in the list is: 2\n"
     ]
    }
   ],
   "source": [
    "def second_smallest_element(numbers):\n",
    "    # Check if the list has at least two elements\n",
    "    if len(numbers) < 2:\n",
    "        return None  # Return None if there are not enough elements\n",
    "\n",
    "    # Sort the list in ascending order\n",
    "    sorted_numbers = sorted(numbers)\n",
    "\n",
    "    # Return the second element\n",
    "    return sorted_numbers[1]\n",
    "\n",
    "l = [5, 2, 8, 3, 1, 7, 4, 6]\n",
    "second_smallest = second_smallest_element(l)\n",
    "\n",
    "if second_smallest is not None:\n",
    "    print(f\"The second smallest element in the list is: {second_smallest}\")\n",
    "else:\n",
    "    print(\"The list does not have enough elements.\")\n"
   ]
  },
  {
   "cell_type": "markdown",
   "id": "766561e2-cb8b-41b8-ab33-a8de8026268c",
   "metadata": {},
   "source": [
    "# 33. Remove the vowels from a string."
   ]
  },
  {
   "cell_type": "code",
   "execution_count": 10,
   "id": "cd1db9e9-a59c-4300-9aeb-38fc1b543b97",
   "metadata": {},
   "outputs": [
    {
     "name": "stdout",
     "output_type": "stream",
     "text": [
      "Original String: Hello, World!\n",
      "String without vowels: Hll, Wrld!\n"
     ]
    }
   ],
   "source": [
    "def remove_vowels(input_string):\n",
    "    vowels = \"aeiouAEIOU\"\n",
    "    without_vowels = ''.join(char for char in input_string if char not in vowels)\n",
    "    return without_vowels\n",
    "\n",
    "original_string = \"Hello, World!\"\n",
    "string_without_vowels = remove_vowels(original_string)\n",
    "\n",
    "print(f\"Original String: {original_string}\")\n",
    "print(f\"String without vowels: {string_without_vowels}\")\n"
   ]
  },
  {
   "cell_type": "markdown",
   "id": "0370ba94-f7d6-412f-b9da-63773e7087f9",
   "metadata": {},
   "source": [
    "# 34. Given a list of strings, find the number of words in each string."
   ]
  },
  {
   "cell_type": "code",
   "execution_count": 11,
   "id": "e321567a-ed81-4b7d-b86e-17b9e00db509",
   "metadata": {},
   "outputs": [
    {
     "name": "stdout",
     "output_type": "stream",
     "text": [
      "String 1: Hello, how are you?\n",
      "Number of words: 4\n",
      "\n",
      "String 2: Python is great!\n",
      "Number of words: 3\n",
      "\n",
      "String 3: Count the words.\n",
      "Number of words: 3\n",
      "\n"
     ]
    }
   ],
   "source": [
    "def count_words_in_strings(string_list):\n",
    "    word_counts = []\n",
    "\n",
    "    for string in string_list:\n",
    "        words = string.split()\n",
    "        word_count = len(words)\n",
    "        word_counts.append(word_count)\n",
    "\n",
    "    return word_counts\n",
    "\n",
    "list_of_strings = [\"Hello, how are you?\", \"Python is great!\", \"Count the words.\"]\n",
    "word_counts_per_string = count_words_in_strings(list_of_strings)\n",
    "\n",
    "for i, string in enumerate(list_of_strings):\n",
    "    print(f\"String {i + 1}: {string}\")\n",
    "    print(f\"Number of words: {word_counts_per_string[i]}\")\n",
    "    print()\n"
   ]
  },
  {
   "cell_type": "markdown",
   "id": "7ab6382c-0e84-4dba-a61d-c9b8d98aeae9",
   "metadata": {},
   "source": [
    "# 35. Sort a list of integers in ascending order."
   ]
  },
  {
   "cell_type": "code",
   "execution_count": 12,
   "id": "af3b1dca-df17-42d7-985d-876a9e6d4e94",
   "metadata": {},
   "outputs": [
    {
     "name": "stdout",
     "output_type": "stream",
     "text": [
      "Original List: [5, 2, 8, 3, 1, 7, 4, 6]\n",
      "Sorted List (Ascending): [1, 2, 3, 4, 5, 6, 7, 8]\n"
     ]
    }
   ],
   "source": [
    "def sort_list_ascending(input_list):\n",
    "    sorted_list = sorted(input_list)\n",
    "    return sorted_list\n",
    "\n",
    "integer_list = [5, 2, 8, 3, 1, 7, 4, 6]\n",
    "sorted_result = sort_list_ascending(integer_list)\n",
    "\n",
    "print(f\"Original List: {integer_list}\")\n",
    "print(f\"Sorted List (Ascending): {sorted_result}\")\n"
   ]
  },
  {
   "cell_type": "markdown",
   "id": "671ea46d-8663-4c57-8026-6907bcae9c33",
   "metadata": {},
   "source": [
    "# 36. Check if all elements in a list are unique."
   ]
  },
  {
   "cell_type": "code",
   "execution_count": 13,
   "id": "6712d439-57cd-4eb7-a651-c66a8e07e841",
   "metadata": {},
   "outputs": [
    {
     "name": "stdout",
     "output_type": "stream",
     "text": [
      "All elements in the first list are unique.\n",
      "There are duplicate elements in the second list.\n"
     ]
    }
   ],
   "source": [
    "def are_all_elements_unique(input_list):\n",
    "    return len(input_list) == len(set(input_list))\n",
    "\n",
    "unique_list = [1, 2, 3, 4, 5]\n",
    "non_unique_list = [1, 2, 3, 2, 4, 5]\n",
    "\n",
    "if are_all_elements_unique(unique_list):\n",
    "    print(\"All elements in the first list are unique.\")\n",
    "else:\n",
    "    print(\"There are duplicate elements in the first list.\")\n",
    "\n",
    "if are_all_elements_unique(non_unique_list):\n",
    "    print(\"All elements in the second list are unique.\")\n",
    "else:\n",
    "    print(\"There are duplicate elements in the second list.\")\n"
   ]
  },
  {
   "cell_type": "markdown",
   "id": "3e245adf-3da0-42ff-b6fe-b27142cd39b6",
   "metadata": {},
   "source": [
    "# 37. Given a list of tuples, sort them based on the second element."
   ]
  },
  {
   "cell_type": "code",
   "execution_count": 14,
   "id": "c5309436-4e96-4b03-b711-26ece9486ad0",
   "metadata": {},
   "outputs": [
    {
     "name": "stdout",
     "output_type": "stream",
     "text": [
      "Original List of Tuples: [(1, 5), (2, 3), (3, 8), (4, 1), (5, 6)]\n",
      "Sorted List of Tuples (based on second element): [(4, 1), (2, 3), (1, 5), (5, 6), (3, 8)]\n"
     ]
    }
   ],
   "source": [
    "def sort_tuples_by_second_element(tuple_list):\n",
    "    sorted_tuples = sorted(tuple_list, key=lambda x: x[1]) #key=lambda x: x[1], (1, 5),for 5\n",
    "    return sorted_tuples\n",
    "\n",
    "tuple_list = [(1, 5), (2, 3), (3, 8), (4, 1), (5, 6)]\n",
    "sorted_result = sort_tuples_by_second_element(tuple_list)\n",
    "\n",
    "print(f\"Original List of Tuples: {tuple_list}\")\n",
    "print(f\"Sorted List of Tuples (based on second element): {sorted_result}\")\n"
   ]
  },
  {
   "cell_type": "markdown",
   "id": "83814374-cef8-40ca-acbc-27f3d2e660cc",
   "metadata": {},
   "source": [
    "# 38. Remove the duplicates from a list of tuples."
   ]
  },
  {
   "cell_type": "code",
   "execution_count": 15,
   "id": "63adfa6b-e73c-4ac6-ac4b-efe45855e98f",
   "metadata": {},
   "outputs": [
    {
     "name": "stdout",
     "output_type": "stream",
     "text": [
      "Original List of Tuples: [(1, 2), (2, 3), (1, 2), (4, 5), (2, 3)]\n",
      "List of Tuples without Duplicates: [(2, 3), (4, 5), (1, 2)]\n"
     ]
    }
   ],
   "source": [
    "def remove_duplicates_from_tuples(tuple_list):\n",
    "    unique_tuples = list(set(tuple_list))\n",
    "    return unique_tuples\n",
    "\n",
    "tuple_list_with_duplicates = [(1, 2), (2, 3), (1, 2), (4, 5), (2, 3)]\n",
    "unique_result = remove_duplicates_from_tuples(tuple_list_with_duplicates)\n",
    "\n",
    "print(f\"Original List of Tuples: {tuple_list_with_duplicates}\")\n",
    "print(f\"List of Tuples without Duplicates: {unique_result}\")\n"
   ]
  },
  {
   "cell_type": "markdown",
   "id": "8ee08523-d0b8-47ba-ab23-56dd37df23a5",
   "metadata": {},
   "source": [
    "# 39. Find the most frequent element in a list."
   ]
  },
  {
   "cell_type": "code",
   "execution_count": 16,
   "id": "e5674796-52e0-41f8-af2a-b79172b79966",
   "metadata": {},
   "outputs": [
    {
     "name": "stdout",
     "output_type": "stream",
     "text": [
      "The most frequent element in the list is: 2\n",
      "It appears 5 times.\n"
     ]
    }
   ],
   "source": [
    "from collections import Counter\n",
    "\n",
    "def most_frequent_element(input_list):\n",
    "\n",
    "    element_counts = Counter(input_list)\n",
    "\n",
    "    most_common_element, count = element_counts.most_common(1)[0]\n",
    "\n",
    "    return most_common_element, count\n",
    "\n",
    "my_list = [1, 2, 3, 2, 4, 2, 5, 2, 6, 1, 7, 1, 8, 2, 9]\n",
    "result_element, result_count = most_frequent_element(my_list)\n",
    "\n",
    "print(f\"The most frequent element in the list is: {result_element}\")\n",
    "print(f\"It appears {result_count} times.\")\n"
   ]
  },
  {
   "cell_type": "markdown",
   "id": "d465f1ac-cef1-4e0b-88c9-eadbca859240",
   "metadata": {},
   "source": [
    "# 40. Given two lists, find their common elements."
   ]
  },
  {
   "cell_type": "code",
   "execution_count": 17,
   "id": "2cf32e0b-425f-4970-824d-6ec21188662a",
   "metadata": {},
   "outputs": [
    {
     "name": "stdout",
     "output_type": "stream",
     "text": [
      "List 1: [1, 2, 3, 4, 5]\n",
      "List 2: [3, 4, 5, 6, 7]\n",
      "Common Elements: [3, 4, 5]\n"
     ]
    }
   ],
   "source": [
    "def find_common_elements(list1, list2):\n",
    "    set1 = set(list1)\n",
    "    set2 = set(list2)\n",
    "\n",
    "    common_elements = set1.intersection(set2)\n",
    "    return list(common_elements)\n",
    "\n",
    "list1 = [1, 2, 3, 4, 5]\n",
    "list2 = [3, 4, 5, 6, 7]\n",
    "\n",
    "common_elements_result = find_common_elements(list1, list2)\n",
    "\n",
    "print(f\"List 1: {list1}\")\n",
    "print(f\"List 2: {list2}\")\n",
    "print(f\"Common Elements: {common_elements_result}\")\n"
   ]
  },
  {
   "cell_type": "markdown",
   "id": "858c13fd-b3e3-4ba6-b11e-7adcc307be01",
   "metadata": {},
   "source": [
    "# 41. Calculate the sum of all the odd numbers between two given numbers."
   ]
  },
  {
   "cell_type": "code",
   "execution_count": 18,
   "id": "5927071d-4c72-4d73-8959-0f50080af049",
   "metadata": {},
   "outputs": [
    {
     "name": "stdout",
     "output_type": "stream",
     "text": [
      "The sum of odd numbers between 1 and 10 is: 25\n"
     ]
    }
   ],
   "source": [
    "def sum_of_odd_numbers(start, end):\n",
    "    if start > end:\n",
    "        start, end = end, start\n",
    "\n",
    "    odd_sum = 0\n",
    "\n",
    "    for num in range(start, end + 1):\n",
    "        if num % 2 != 0:\n",
    "            odd_sum += num\n",
    "\n",
    "    return odd_sum\n",
    "\n",
    "start_number = 1\n",
    "end_number = 10\n",
    "result = sum_of_odd_numbers(start_number, end_number)\n",
    "\n",
    "print(f\"The sum of odd numbers between {start_number} and {end_number} is: {result}\")\n"
   ]
  },
  {
   "cell_type": "markdown",
   "id": "520de45e-9700-4bdf-8c8f-380199ea39da",
   "metadata": {},
   "source": [
    "# 42. Check if a given string is a valid email address."
   ]
  },
  {
   "cell_type": "code",
   "execution_count": 19,
   "id": "2151f684-60e9-4bd7-8c85-d3bf58cb7862",
   "metadata": {},
   "outputs": [
    {
     "name": "stdout",
     "output_type": "stream",
     "text": [
      "example@email.com is a valid email address.\n"
     ]
    }
   ],
   "source": [
    "import re\n",
    "\n",
    "def is_valid_email(email):\n",
    "    email_pattern = re.compile(r'^[a-zA-Z0-9._%+-]+@[a-zA-Z0-9.-]+\\.[a-zA-Z]{2,}$')\n",
    "\n",
    "    #  match function to check if the email matches the pattern\n",
    "    match = email_pattern.match(email)\n",
    "\n",
    "    return bool(match)\n",
    "\n",
    "email_to_check = \"example@email.com\"\n",
    "if is_valid_email(email_to_check):\n",
    "    print(f\"{email_to_check} is a valid email address.\")\n",
    "else:\n",
    "    print(f\"{email_to_check} is not a valid email address.\")\n"
   ]
  },
  {
   "cell_type": "markdown",
   "id": "c2a4cadc-c82a-4e0a-a06a-28c62fab7471",
   "metadata": {},
   "source": [
    "# 43. Find the number of words starting with a specific letter in a sentence."
   ]
  },
  {
   "cell_type": "code",
   "execution_count": 20,
   "id": "d4a5e7dc-bfc3-4206-961d-fde162f49329",
   "metadata": {},
   "outputs": [
    {
     "name": "stdout",
     "output_type": "stream",
     "text": [
      "Number of words starting with 't' in the sentence: 1\n"
     ]
    }
   ],
   "source": [
    "def count_words_starting_with_letter(sentence, starting_letter):\n",
    "    # Split the sentence into words\n",
    "    words = sentence.split()\n",
    "\n",
    "    # Count the words that start with the specified letter\n",
    "    matching_words = [word for word in words if word.startswith(starting_letter)]\n",
    "\n",
    "    return len(matching_words)\n",
    "\n",
    "input_sentence = \"The quick brown fox jumps over the lazy dog\"\n",
    "specified_letter = \"t\"\n",
    "result = count_words_starting_with_letter(input_sentence, specified_letter)\n",
    "\n",
    "print(f\"Number of words starting with '{specified_letter}' in the sentence: {result}\")\n"
   ]
  },
  {
   "cell_type": "markdown",
   "id": "899b61d1-0347-4d4a-b03e-e7b2801b3a03",
   "metadata": {},
   "source": [
    "# 44. Given a list of integers, find the third largest element."
   ]
  },
  {
   "cell_type": "code",
   "execution_count": 21,
   "id": "53147cdf-04e8-4c50-9994-aaa046c93443",
   "metadata": {},
   "outputs": [
    {
     "name": "stdout",
     "output_type": "stream",
     "text": [
      "[8, 7, 6, 5, 4, 3, 2, 1]\n",
      "The third largest element in the list is: 6\n"
     ]
    }
   ],
   "source": [
    "def third_largest_element(numbers):\n",
    "    if len(numbers) < 3:\n",
    "        return None  \n",
    "    sorted_numbers = sorted(numbers, reverse=True)\n",
    "    print(sorted_numbers)\n",
    "    return sorted_numbers[2]\n",
    "\n",
    "integer_list = [5, 2, 8, 3, 1, 7, 4, 6]\n",
    "third_largest = third_largest_element(integer_list)\n",
    "\n",
    "if third_largest is not None:\n",
    "    print(f\"The third largest element in the list is: {third_largest}\")\n",
    "else:\n",
    "    print(\"The list does not have enough elements.\")\n"
   ]
  },
  {
   "cell_type": "markdown",
   "id": "f526d855-c869-4046-88a3-f644b11bbc31",
   "metadata": {},
   "source": [
    "# 45. Check if a given list is sorted in non-decreasing order."
   ]
  },
  {
   "cell_type": "code",
   "execution_count": 22,
   "id": "46f62848-2817-4be3-bacb-06d40533f520",
   "metadata": {},
   "outputs": [
    {
     "name": "stdout",
     "output_type": "stream",
     "text": [
      "The list is sorted in non-decreasing order.\n",
      "The list is not sorted in non-decreasing order.\n"
     ]
    }
   ],
   "source": [
    "def is_sorted_non_decreasing(input_list):\n",
    "    for i in range(len(input_list) - 1):\n",
    "        if input_list[i] > input_list[i + 1]:\n",
    "            return False\n",
    "    return True\n",
    "\n",
    "sorted_list = [1, 2, 3, 4, 5]\n",
    "unsorted_list = [5, 2, 8, 3, 1, 7, 4, 6]\n",
    "\n",
    "if is_sorted_non_decreasing(sorted_list):\n",
    "    print(\"The list is sorted in non-decreasing order.\")\n",
    "else:\n",
    "    print(\"The list is not sorted in non-decreasing order.\")\n",
    "\n",
    "if is_sorted_non_decreasing(unsorted_list):\n",
    "    print(\"The list is sorted in non-decreasing order.\")\n",
    "else:\n",
    "    print(\"The list is not sorted in non-decreasing order.\")\n"
   ]
  },
  {
   "cell_type": "markdown",
   "id": "03c02cf0-ba72-48ab-89e2-824865947cda",
   "metadata": {},
   "source": [
    "# 46. Find the number of prime numbers in a given range."
   ]
  },
  {
   "cell_type": "code",
   "execution_count": 23,
   "id": "40df4534-6a3d-401c-8c4d-47244dc092ac",
   "metadata": {},
   "outputs": [
    {
     "name": "stdout",
     "output_type": "stream",
     "text": [
      "The number of prime numbers between 10 and 50 is: 11\n"
     ]
    }
   ],
   "source": [
    "def is_prime(number):\n",
    "    if number < 2:\n",
    "        return False\n",
    "    for i in range(2, int(number**0.5) + 1):\n",
    "        if number % i == 0:\n",
    "            return False\n",
    "    return True\n",
    "\n",
    "def count_primes_in_range(start, end):\n",
    "    count = 0\n",
    "    for num in range(start, end + 1):\n",
    "        if is_prime(num):\n",
    "            count += 1\n",
    "    return count\n",
    "\n",
    "\n",
    "start_range = 10\n",
    "end_range = 50\n",
    "prime_count = count_primes_in_range(start_range, end_range)\n",
    "\n",
    "print(f\"The number of prime numbers between {start_range} and {end_range} is: {prime_count}\")\n"
   ]
  },
  {
   "cell_type": "markdown",
   "id": "9c7f45a3-9b38-4c99-9ac2-89a6a8a9751c",
   "metadata": {},
   "source": [
    "# 47. Given a list of tuples, convert it into a dictionary."
   ]
  },
  {
   "cell_type": "code",
   "execution_count": 24,
   "id": "89e5be76-6e77-407f-beaa-f7b2bf8193b7",
   "metadata": {},
   "outputs": [
    {
     "name": "stdout",
     "output_type": "stream",
     "text": [
      "List of Tuples: [('a', 1), ('b', 2), ('c', 3)]\n",
      "Converted Dictionary: {'a': 1, 'b': 2, 'c': 3}\n"
     ]
    }
   ],
   "source": [
    "def list_of_tuples_to_dict(tuple_list):\n",
    "    # Use dict() constructor to convert list of tuples to a dictionary\n",
    "    result_dict = dict(tuple_list)\n",
    "    return result_dict\n",
    "\n",
    "tuple_list = [(\"a\", 1), (\"b\", 2), (\"c\", 3)]\n",
    "dictionary_result = list_of_tuples_to_dict(tuple_list)\n",
    "\n",
    "print(f\"List of Tuples: {tuple_list}\")\n",
    "print(f\"Converted Dictionary: {dictionary_result}\")\n"
   ]
  },
  {
   "cell_type": "markdown",
   "id": "04035a3a-8ad4-431b-a8ae-5363f0fb1984",
   "metadata": {},
   "source": [
    "# 48. Check if a given string is a palindrome ignoring spaces."
   ]
  },
  {
   "cell_type": "code",
   "execution_count": 25,
   "id": "28a5cc2b-56eb-4a98-8ae4-1f052722cc14",
   "metadata": {},
   "outputs": [
    {
     "name": "stdout",
     "output_type": "stream",
     "text": [
      "A man a plan a canal Panama is not a palindrome (ignoring spaces).\n",
      "Hello, World! is not a palindrome (ignoring spaces).\n"
     ]
    }
   ],
   "source": [
    "def is_palindrome_ignore_spaces(input_string):\n",
    "\n",
    "    cleaned_string = ''.join(input_string.split())\n",
    "\n",
    "    # Compare the cleaned string with its reverse\n",
    "    return cleaned_string == cleaned_string[::-1]\n",
    "\n",
    "palindrome_with_spaces = \"A man a plan a canal Panama\"\n",
    "not_palindrome_with_spaces = \"Hello, World!\"\n",
    "\n",
    "if is_palindrome_ignore_spaces(palindrome_with_spaces):\n",
    "    print(f\"{palindrome_with_spaces} is a palindrome (ignoring spaces).\")\n",
    "else:\n",
    "    print(f\"{palindrome_with_spaces} is not a palindrome (ignoring spaces).\")\n",
    "\n",
    "if is_palindrome_ignore_spaces(not_palindrome_with_spaces):\n",
    "    print(f\"{not_palindrome_with_spaces} is a palindrome (ignoring spaces).\")\n",
    "else:\n",
    "    print(f\"{not_palindrome_with_spaces} is not a palindrome (ignoring spaces).\")\n"
   ]
  },
  {
   "cell_type": "markdown",
   "id": "45b8841b-2bf5-4603-96aa-109bd3b6543b",
   "metadata": {},
   "source": [
    "# 49. Given a string, count the number of uppercase and lowercase letters."
   ]
  },
  {
   "cell_type": "code",
   "execution_count": 26,
   "id": "eebb9354-f644-4791-b7c0-4fc270c1c11e",
   "metadata": {},
   "outputs": [
    {
     "name": "stdout",
     "output_type": "stream",
     "text": [
      "Original String: Hello, World!\n",
      "Number of Uppercase Letters: 2\n",
      "Number of Lowercase Letters: 8\n"
     ]
    }
   ],
   "source": [
    "def count_upper_lower(input_string):\n",
    "    \n",
    "    upper_count = 0\n",
    "    lower_count = 0\n",
    "\n",
    "    for char in input_string:\n",
    "        if char.isupper():\n",
    "            upper_count += 1\n",
    "        elif char.islower():\n",
    "            lower_count += 1\n",
    "\n",
    "    return upper_count, lower_count\n",
    "\n",
    "\n",
    "input_str = \"Hello, World!\"\n",
    "\n",
    "upper_count, lower_count = count_upper_lower(input_str)\n",
    "\n",
    "print(f\"Original String: {input_str}\")\n",
    "print(f\"Number of Uppercase Letters: {upper_count}\")\n",
    "print(f\"Number of Lowercase Letters: {lower_count}\")\n"
   ]
  },
  {
   "cell_type": "markdown",
   "id": "d834fdbc-d68e-497a-a72c-52d58fed7e2f",
   "metadata": {},
   "source": [
    "# 50. Write a program to remove duplicate characters from a string."
   ]
  },
  {
   "cell_type": "code",
   "execution_count": 27,
   "id": "7dd677be-8967-44f6-8858-8b79af2f5cc1",
   "metadata": {},
   "outputs": [
    {
     "name": "stdout",
     "output_type": "stream",
     "text": [
      "Original String: programming\n",
      "String without Duplicate Characters: progamin\n"
     ]
    }
   ],
   "source": [
    "def remove_duplicates(input_string):\n",
    "    unique_chars = \"\"\n",
    "    for char in input_string:\n",
    "        if char not in unique_chars:\n",
    "            unique_chars += char\n",
    "    return unique_chars\n",
    "\n",
    "original_string = \"programming\"\n",
    "\n",
    "result = remove_duplicates(original_string)\n",
    "\n",
    "print(f\"Original String: {original_string}\")\n",
    "print(f\"String without Duplicate Characters: {result}\")\n"
   ]
  },
  {
   "cell_type": "code",
   "execution_count": null,
   "id": "9072e619-ae5d-4ba9-8255-c677def5f5b0",
   "metadata": {},
   "outputs": [],
   "source": []
  }
 ],
 "metadata": {
  "kernelspec": {
   "display_name": "Python 3 (ipykernel)",
   "language": "python",
   "name": "python3"
  },
  "language_info": {
   "codemirror_mode": {
    "name": "ipython",
    "version": 3
   },
   "file_extension": ".py",
   "mimetype": "text/x-python",
   "name": "python",
   "nbconvert_exporter": "python",
   "pygments_lexer": "ipython3",
   "version": "3.9.10"
  },
  "widgets": {
   "application/vnd.jupyter.widget-state+json": {
    "state": {},
    "version_major": 2,
    "version_minor": 0
   }
  }
 },
 "nbformat": 4,
 "nbformat_minor": 5
}
