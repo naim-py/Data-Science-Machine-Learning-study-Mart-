{
 "cells": [
  {
   "cell_type": "markdown",
   "id": "be0d1ee2-3b8a-4e4b-8e4b-8fdf6f5814ad",
   "metadata": {},
   "source": [
    "# 1. Write a function that takes two numbers as input and returns their sum."
   ]
  },
  {
   "cell_type": "code",
   "execution_count": 1,
   "id": "e08e58c3-5c68-4fae-83e5-39965a693892",
   "metadata": {},
   "outputs": [
    {
     "name": "stdout",
     "output_type": "stream",
     "text": [
      "Sum of 3 and 5 is: 8\n"
     ]
    }
   ],
   "source": [
    "def add_numbers(num1, num2):\n",
    "    return num1 + num2\n",
    "\n",
    "result_sum = add_numbers(3, 5)\n",
    "print(f\"Sum of 3 and 5 is: {result_sum}\")\n"
   ]
  },
  {
   "cell_type": "markdown",
   "id": "a4f5c401-8337-4f44-b199-9c5f04050c18",
   "metadata": {},
   "source": [
    "# 2. Write a function to calculate the factorial of a given number."
   ]
  },
  {
   "cell_type": "code",
   "execution_count": 2,
   "id": "63695980-2ac9-48ee-b3f2-43f165ba52e4",
   "metadata": {},
   "outputs": [
    {
     "name": "stdout",
     "output_type": "stream",
     "text": [
      "Factorial of 5 is: 120\n"
     ]
    }
   ],
   "source": [
    "def factorial(number):\n",
    "    if number == 0 or number == 1:\n",
    "        return 1\n",
    "    else:\n",
    "        return number * factorial(number - 1)\n",
    "\n",
    "result_factorial = factorial(5)\n",
    "print(f\"Factorial of 5 is: {result_factorial}\")\n"
   ]
  },
  {
   "cell_type": "markdown",
   "id": "59d1489e-57e7-40db-8920-b51bb9c87978",
   "metadata": {},
   "source": [
    "# 3. Write a function to check if a given number is prime or not."
   ]
  },
  {
   "cell_type": "code",
   "execution_count": 3,
   "id": "a0bbb4c0-21f6-44be-b0a7-8777ad4f3dfb",
   "metadata": {},
   "outputs": [
    {
     "name": "stdout",
     "output_type": "stream",
     "text": [
      "Is 13 a prime number? True\n"
     ]
    }
   ],
   "source": [
    "def is_prime(number):\n",
    "    if number < 2:\n",
    "        return False\n",
    "    for i in range(2, int(number**0.5) + 1):\n",
    "        if number % i == 0:\n",
    "            return False\n",
    "    return True\n",
    "\n",
    "result_prime = is_prime(13)\n",
    "print(f\"Is 13 a prime number? {result_prime}\")\n"
   ]
  },
  {
   "cell_type": "markdown",
   "id": "63d1fa38-b842-4ee9-8205-8ae5a48d1c79",
   "metadata": {},
   "source": [
    "# 4. Write a function that takes a string as input and returns the reverse of the string."
   ]
  },
  {
   "cell_type": "code",
   "execution_count": 4,
   "id": "c80a31f8-f8d3-433b-846e-b5d8a3cbab3f",
   "metadata": {},
   "outputs": [
    {
     "name": "stdout",
     "output_type": "stream",
     "text": [
      "Reversed string: !dlroW ,olleH\n"
     ]
    }
   ],
   "source": [
    "def reverse_string(input_string):\n",
    "    return input_string[::-1]\n",
    "\n",
    "result_reverse = reverse_string(\"Hello, World!\")\n",
    "print(f\"Reversed string: {result_reverse}\")\n"
   ]
  },
  {
   "cell_type": "markdown",
   "id": "e0762e4f-c265-49ff-ba9d-8db8f5ed2376",
   "metadata": {},
   "source": [
    "# 5. Write a function that takes a list of numbers as input and returns the largest number in the list."
   ]
  },
  {
   "cell_type": "code",
   "execution_count": 5,
   "id": "cdc1b15d-64b3-4585-8614-cf46edad1890",
   "metadata": {},
   "outputs": [
    {
     "name": "stdout",
     "output_type": "stream",
     "text": [
      "The largest number in the list is: 8\n"
     ]
    }
   ],
   "source": [
    "def find_largest_number(numbers):\n",
    "    if not numbers:\n",
    "        return None  \n",
    "    return max(numbers)\n",
    "\n",
    "number_list = [5, 2, 8, 3, 1, 7, 4, 6]\n",
    "result_largest = find_largest_number(number_list)\n",
    "print(f\"The largest number in the list is: {result_largest}\")\n"
   ]
  },
  {
   "cell_type": "markdown",
   "id": "6cb391c2-367c-4fae-8372-7ddab036de1e",
   "metadata": {},
   "source": [
    "# 6. Write a function that takes a list of strings as input and returns the shortest string in the list."
   ]
  },
  {
   "cell_type": "code",
   "execution_count": 10,
   "id": "843b0c5a-0a54-449b-9a29-389c321ee41b",
   "metadata": {},
   "outputs": [
    {
     "name": "stdout",
     "output_type": "stream",
     "text": [
      "The shortest string in the list is: kiwi\n"
     ]
    }
   ],
   "source": [
    "def find_shortest_string(string_list):\n",
    "    if not string_list:\n",
    "        return None  \n",
    "    shortest_string = min(string_list, key=len)\n",
    "    return shortest_string\n",
    "\n",
    "string_list = [\"apple\", \"banana\", \"kiwi\", \"strawberry\", \"orange\"]\n",
    "result_shortest_string = find_shortest_string(string_list)\n",
    "print(f\"The shortest string in the list is: {result_shortest_string}\")\n"
   ]
  },
  {
   "cell_type": "markdown",
   "id": "6969b916-2259-4486-8b2f-bf133d974f24",
   "metadata": {},
   "source": [
    "# 7. Write a function to count the number of vowels in a given string."
   ]
  },
  {
   "cell_type": "code",
   "execution_count": 9,
   "id": "be86a1bb-d073-4886-898e-0af367ac89af",
   "metadata": {},
   "outputs": [
    {
     "name": "stdout",
     "output_type": "stream",
     "text": [
      "The number of vowels in 'Hello, World!' is: 3\n"
     ]
    }
   ],
   "source": [
    "def count_vowels(input_string):\n",
    "    vowels = \"aeiouAEIOU\"\n",
    "    return sum(1 for char in input_string if char in vowels)\n",
    "\n",
    "input_str = \"Hello, World!\"\n",
    "result_vowels_count = count_vowels(input_str)\n",
    "print(f\"The number of vowels in '{input_str}' is: {result_vowels_count}\")\n"
   ]
  },
  {
   "cell_type": "markdown",
   "id": "bfc8d148-ce0c-49db-b269-5ae10d970a1f",
   "metadata": {},
   "source": [
    "# 8. Write a function that takes a list of numbers as input and returns a new list with only the even numbers."
   ]
  },
  {
   "cell_type": "code",
   "execution_count": 8,
   "id": "940e366f-c4c7-48bb-a0a1-9cf4c7a89401",
   "metadata": {},
   "outputs": [
    {
     "name": "stdout",
     "output_type": "stream",
     "text": [
      "The even numbers in the list are: [2, 8, 4, 6]\n"
     ]
    }
   ],
   "source": [
    "def filter_even_numbers(numbers):\n",
    "    return [num for num in numbers if num % 2 == 0]\n",
    "\n",
    "number_list = [5, 2, 8, 3, 1, 7, 4, 6]\n",
    "result_even_numbers = filter_even_numbers(number_list)\n",
    "print(f\"The even numbers in the list are: {result_even_numbers}\")\n"
   ]
  },
  {
   "cell_type": "markdown",
   "id": "de1a12f7-6860-4403-9ca4-09115da7a590",
   "metadata": {},
   "source": [
    "# 9. Write a function to check if a given string is a palindrome."
   ]
  },
  {
   "cell_type": "code",
   "execution_count": 7,
   "id": "d3477581-9090-486f-aea0-6c9c500bd5c1",
   "metadata": {},
   "outputs": [
    {
     "name": "stdout",
     "output_type": "stream",
     "text": [
      "Is 'A man a plan a canal Panama' a palindrome? False\n"
     ]
    }
   ],
   "source": [
    "def is_palindrome(input_string):\n",
    "    cleaned_string = ''.join(input_string.split())\n",
    "    return cleaned_string == cleaned_string[::-1]\n",
    "\n",
    "input_str = \"A man a plan a canal Panama\"\n",
    "result_palindrome = is_palindrome(input_str)\n",
    "print(f\"Is '{input_str}' a palindrome? {result_palindrome}\")\n"
   ]
  },
  {
   "cell_type": "markdown",
   "id": "39290597-dc74-405e-9280-2d29a6cc7f98",
   "metadata": {},
   "source": [
    "# 10. Write a function that takes a list of strings as input and returns a new list with the strings sorted in alphabetical order."
   ]
  },
  {
   "cell_type": "code",
   "execution_count": 6,
   "id": "35cc9392-a450-42b8-ab18-6432ed4c1b05",
   "metadata": {},
   "outputs": [
    {
     "name": "stdout",
     "output_type": "stream",
     "text": [
      "Sorted list of strings: ['apple', 'banana', 'kiwi', 'orange', 'strawberry']\n"
     ]
    }
   ],
   "source": [
    "def sort_strings_alphabetically(string_list):\n",
    "    return sorted(string_list)\n",
    "\n",
    "unsorted_strings = [\"banana\", \"apple\", \"kiwi\", \"strawberry\", \"orange\"]\n",
    "result_sorted_strings = sort_strings_alphabetically(unsorted_strings)\n",
    "print(f\"Sorted list of strings: {result_sorted_strings}\")\n"
   ]
  },
  {
   "cell_type": "markdown",
   "id": "4077add3-6197-46d6-a8ec-5065e42497ec",
   "metadata": {},
   "source": [
    "# 11. Write a function to calculate the area of a circle given its radius."
   ]
  },
  {
   "cell_type": "code",
   "execution_count": 11,
   "id": "a2b317a4-a205-4224-82a6-5aeee602df49",
   "metadata": {},
   "outputs": [
    {
     "name": "stdout",
     "output_type": "stream",
     "text": [
      "The area of a circle with radius 5 is: 78.53981633974483\n"
     ]
    }
   ],
   "source": [
    "import math\n",
    "\n",
    "def calculate_circle_area(radius):\n",
    "    return math.pi * radius**2\n",
    "\n",
    "radius = 5\n",
    "result_circle_area = calculate_circle_area(radius)\n",
    "print(f\"The area of a circle with radius {radius} is: {result_circle_area}\")\n"
   ]
  },
  {
   "cell_type": "markdown",
   "id": "1ae45f8c-00d3-43a8-8179-2c26b91bb2a9",
   "metadata": {},
   "source": [
    "# 12. Write a function to calculate the Fibonacci series up to a given number."
   ]
  },
  {
   "cell_type": "code",
   "execution_count": 12,
   "id": "0eba5c1b-20e7-4d63-bc3e-746e9311b1c6",
   "metadata": {},
   "outputs": [
    {
     "name": "stdout",
     "output_type": "stream",
     "text": [
      "The Fibonacci series up to 20: [0, 1, 1, 2, 3, 5, 8, 13]\n"
     ]
    }
   ],
   "source": [
    "def fibonacci_series(up_to):\n",
    "    fib_series = [0, 1]\n",
    "    while fib_series[-1] + fib_series[-2] <= up_to:\n",
    "        fib_series.append(fib_series[-1] + fib_series[-2])\n",
    "    return fib_series\n",
    "\n",
    "up_to_number = 20\n",
    "result_fibonacci_series = fibonacci_series(up_to_number)\n",
    "print(f\"The Fibonacci series up to {up_to_number}: {result_fibonacci_series}\")\n"
   ]
  },
  {
   "cell_type": "markdown",
   "id": "20994f73-daaf-44f9-9389-34e0f7048d9c",
   "metadata": {},
   "source": [
    "# 13. Write a function that takes a list of numbers as input and returns the sum of all the numbers."
   ]
  },
  {
   "cell_type": "code",
   "execution_count": 13,
   "id": "71c855ad-a906-4960-b224-1058a4089047",
   "metadata": {},
   "outputs": [
    {
     "name": "stdout",
     "output_type": "stream",
     "text": [
      "The sum of numbers in the list is: 15\n"
     ]
    }
   ],
   "source": [
    "def calculate_sum_of_numbers(numbers):\n",
    "    return sum(numbers)\n",
    "\n",
    "number_list = [1, 2, 3, 4, 5]\n",
    "result_sum_of_numbers = calculate_sum_of_numbers(number_list)\n",
    "print(f\"The sum of numbers in the list is: {result_sum_of_numbers}\")\n"
   ]
  },
  {
   "cell_type": "markdown",
   "id": "0b09fcfd-96a6-433b-91e6-9c49726aa2ca",
   "metadata": {},
   "source": [
    "# 14. Write a function to find the maximum occurring character in a given string."
   ]
  },
  {
   "cell_type": "code",
   "execution_count": 14,
   "id": "353a52d9-c191-4327-96ac-cc477ae66bf6",
   "metadata": {},
   "outputs": [
    {
     "name": "stdout",
     "output_type": "stream",
     "text": [
      "The maximum occurring character in 'programming' is: r\n"
     ]
    }
   ],
   "source": [
    "from collections import Counter\n",
    "\n",
    "def max_occuring_char(input_string):\n",
    "    char_counts = Counter(input_string)\n",
    "    max_char = max(char_counts, key=char_counts.get)\n",
    "    return max_char\n",
    "\n",
    "input_str = \"programming\"\n",
    "result_max_occuring_char = max_occuring_char(input_str)\n",
    "print(f\"The maximum occurring character in '{input_str}' is: {result_max_occuring_char}\")\n"
   ]
  },
  {
   "cell_type": "markdown",
   "id": "006e224a-ef06-44b6-9077-ad8184e2e657",
   "metadata": {},
   "source": [
    "# 15. Write a function that takes a list of numbers as input and returns the product of all the numbers."
   ]
  },
  {
   "cell_type": "code",
   "execution_count": 15,
   "id": "ae2993e4-20d5-400e-8296-ddb6a0dab33b",
   "metadata": {},
   "outputs": [
    {
     "name": "stdout",
     "output_type": "stream",
     "text": [
      "The product of numbers in the list is: 120\n"
     ]
    }
   ],
   "source": [
    "from functools import reduce\n",
    "\n",
    "def calculate_product_of_numbers(numbers):\n",
    "    return reduce(lambda x, y: x * y, numbers, 1)\n",
    "\n",
    "number_list = [1, 2, 3, 4, 5]\n",
    "result_product_of_numbers = calculate_product_of_numbers(number_list)\n",
    "print(f\"The product of numbers in the list is: {result_product_of_numbers}\")\n"
   ]
  },
  {
   "cell_type": "markdown",
   "id": "8dd3f94f-f3bd-455f-a9b2-4249d3c9e785",
   "metadata": {},
   "source": [
    "# 16. Write a function to check if two strings are anagrams of each other."
   ]
  },
  {
   "cell_type": "code",
   "execution_count": 16,
   "id": "dbf2a47e-d029-406e-a2bf-74fdcdf0b5e6",
   "metadata": {},
   "outputs": [
    {
     "name": "stdout",
     "output_type": "stream",
     "text": [
      "Are 'listen' and 'silent' anagrams? True\n"
     ]
    }
   ],
   "source": [
    "def are_anagrams(str1, str2):\n",
    "    return sorted(str1) == sorted(str2)\n",
    "\n",
    "string1 = \"listen\"\n",
    "string2 = \"silent\"\n",
    "result_anagrams = are_anagrams(string1, string2)\n",
    "print(f\"Are '{string1}' and '{string2}' anagrams? {result_anagrams}\")\n"
   ]
  },
  {
   "cell_type": "markdown",
   "id": "55e647c0-a170-4eed-97df-c4133a22f574",
   "metadata": {},
   "source": [
    "# 17. Write a function that takes a list of numbers as input and returns the second smallest number in the list."
   ]
  },
  {
   "cell_type": "code",
   "execution_count": 17,
   "id": "c1b2da6c-d3cc-4fed-8bf3-81d880048379",
   "metadata": {},
   "outputs": [
    {
     "name": "stdout",
     "output_type": "stream",
     "text": [
      "The second smallest number in the list is: 2\n"
     ]
    }
   ],
   "source": [
    "def second_smallest(numbers):\n",
    "    if len(numbers) < 2:\n",
    "        return None \n",
    "    sorted_numbers = sorted(set(numbers))\n",
    "    return sorted_numbers[1]\n",
    "\n",
    "number_list = [5, 2, 8, 3, 1, 7, 4, 6]\n",
    "result_second_smallest = second_smallest(number_list)\n",
    "print(f\"The second smallest number in the list is: {result_second_smallest}\")\n"
   ]
  },
  {
   "cell_type": "markdown",
   "id": "7a13a2a6-bb3e-413c-8c41-751d0967a427",
   "metadata": {},
   "source": [
    "# 18. Write a function to reverse the order of words in a given sentence."
   ]
  },
  {
   "cell_type": "code",
   "execution_count": 18,
   "id": "ca75ab77-e67a-4713-ae75-72520ce00637",
   "metadata": {},
   "outputs": [
    {
     "name": "stdout",
     "output_type": "stream",
     "text": [
      "Original Sentence: Hello, how are you?\n",
      "Reversed Sentence: you? are how Hello,\n"
     ]
    }
   ],
   "source": [
    "def reverse_words_order(sentence):\n",
    "    words = sentence.split()\n",
    "    reversed_sentence = ' '.join(reversed(words))\n",
    "    return reversed_sentence\n",
    "\n",
    "input_sentence = \"Hello, how are you?\"\n",
    "result_reversed_sentence = reverse_words_order(input_sentence)\n",
    "print(f\"Original Sentence: {input_sentence}\")\n",
    "print(f\"Reversed Sentence: {result_reversed_sentence}\")\n"
   ]
  },
  {
   "cell_type": "markdown",
   "id": "ca0a8b4b-2742-4e18-925e-ff5a7810663c",
   "metadata": {},
   "source": [
    "# 19. Write a function to check if a given number is a perfect square."
   ]
  },
  {
   "cell_type": "code",
   "execution_count": 19,
   "id": "c1f9bba8-fef6-4ff8-aafc-7bce426b7bce",
   "metadata": {},
   "outputs": [
    {
     "name": "stdout",
     "output_type": "stream",
     "text": [
      "Is 25 a perfect square? True\n"
     ]
    }
   ],
   "source": [
    "def is_perfect_square(number):\n",
    "    sqrt_value = int(number**0.5)\n",
    "    return number == sqrt_value**2\n",
    "\n",
    "number_to_check = 25\n",
    "result_perfect_square = is_perfect_square(number_to_check)\n",
    "print(f\"Is {number_to_check} a perfect square? {result_perfect_square}\")\n"
   ]
  },
  {
   "cell_type": "markdown",
   "id": "2e0034cd-59be-4619-bfb8-a974ebc3c3d3",
   "metadata": {},
   "source": [
    "# 20. Write a function that takes a list of strings as input and returns the count of words in the list."
   ]
  },
  {
   "cell_type": "code",
   "execution_count": 20,
   "id": "61db4ee0-9efb-4da0-8cf7-3f50cd77f02d",
   "metadata": {},
   "outputs": [
    {
     "name": "stdout",
     "output_type": "stream",
     "text": [
      "The total number of words in the list is: 10\n"
     ]
    }
   ],
   "source": [
    "def count_words_in_list(string_list):\n",
    "    total_words = sum(len(sentence.split()) for sentence in string_list)\n",
    "    return total_words\n",
    "\n",
    "list_of_strings = [\"Hello, how are you?\", \"Python is great!\", \"Count the words.\"]\n",
    "result_word_count = count_words_in_list(list_of_strings)\n",
    "print(f\"The total number of words in the list is: {result_word_count}\")\n"
   ]
  },
  {
   "cell_type": "markdown",
   "id": "000d9ef0-5fd5-4160-9736-60410df4f9c2",
   "metadata": {},
   "source": [
    "# 21. Write a function to remove all duplicates from a given list."
   ]
  },
  {
   "cell_type": "code",
   "execution_count": 21,
   "id": "fe4d19ec-f7b0-4c68-8702-ba5ad8d08209",
   "metadata": {},
   "outputs": [
    {
     "name": "stdout",
     "output_type": "stream",
     "text": [
      "Original List: [1, 2, 3, 2, 4, 5, 1, 3]\n",
      "List without duplicates: [1, 2, 3, 4, 5]\n"
     ]
    }
   ],
   "source": [
    "def remove_duplicates_from_list(input_list):\n",
    "    return list(set(input_list))\n",
    "\n",
    "original_list = [1, 2, 3, 2, 4, 5, 1, 3]\n",
    "result_unique_list = remove_duplicates_from_list(original_list)\n",
    "print(f\"Original List: {original_list}\")\n",
    "print(f\"List without duplicates: {result_unique_list}\")\n"
   ]
  },
  {
   "cell_type": "markdown",
   "id": "2ba3bc08-eeee-4724-86b4-3e95718f5b7c",
   "metadata": {},
   "source": [
    "# 22. Write a function to find the second largest number in a given list."
   ]
  },
  {
   "cell_type": "code",
   "execution_count": 22,
   "id": "48cae6fe-ecb2-4af3-9ce5-450ad5388f2e",
   "metadata": {},
   "outputs": [
    {
     "name": "stdout",
     "output_type": "stream",
     "text": [
      "The second largest number in the list is: 7\n"
     ]
    }
   ],
   "source": [
    "def second_largest(numbers):\n",
    "    if len(numbers) < 2:\n",
    "        return None  # Return None if there are not enough elements\n",
    "    sorted_numbers = sorted(set(numbers), reverse=True)\n",
    "    return sorted_numbers[1]\n",
    "\n",
    "number_list = [5, 2, 8, 3, 1, 7, 4, 6]\n",
    "result_second_largest = second_largest(number_list)\n",
    "print(f\"The second largest number in the list is: {result_second_largest}\")"
   ]
  },
  {
   "cell_type": "markdown",
   "id": "71999d00-0b02-4124-83f1-823218c1ecab",
   "metadata": {},
   "source": [
    "# 23. Write a function that takes a list of strings as input and returns the longest string in the list."
   ]
  },
  {
   "cell_type": "code",
   "execution_count": 23,
   "id": "2cb9f694-2775-4484-9bba-6cbaaa97f610",
   "metadata": {},
   "outputs": [
    {
     "name": "stdout",
     "output_type": "stream",
     "text": [
      "The longest string in the list is: strawberry\n"
     ]
    }
   ],
   "source": [
    "def longest_string(string_list):\n",
    "    if not string_list:\n",
    "        return None  # Return None for an empty list\n",
    "    return max(string_list, key=len)\n",
    "\n",
    "list_of_strings = [\"apple\", \"banana\", \"kiwi\", \"strawberry\", \"orange\"]\n",
    "result_longest_string = longest_string(list_of_strings)\n",
    "print(f\"The longest string in the list is: {result_longest_string}\")\n"
   ]
  },
  {
   "cell_type": "markdown",
   "id": "dfc0ac9e-0150-4815-adbf-71a3109eba15",
   "metadata": {},
   "source": [
    "# 24. Write a function to find the GCD (Greatest Common Divisor) of two numbers."
   ]
  },
  {
   "cell_type": "code",
   "execution_count": 24,
   "id": "537af3e9-3fb8-425c-99f1-0291b16a5730",
   "metadata": {},
   "outputs": [
    {
     "name": "stdout",
     "output_type": "stream",
     "text": [
      "The GCD of 36 and 48 is: 12\n"
     ]
    }
   ],
   "source": [
    "def gcd(num1, num2):\n",
    "    while num2:\n",
    "        num1, num2 = num2, num1 % num2\n",
    "    return num1\n",
    "\n",
    "number1 = 36\n",
    "number2 = 48\n",
    "result_gcd = gcd(number1, number2)\n",
    "print(f\"The GCD of {number1} and {number2} is: {result_gcd}\")"
   ]
  },
  {
   "cell_type": "markdown",
   "id": "a6dab51c-0090-4b60-9719-e7cfa485fa93",
   "metadata": {},
   "source": [
    "# 25. Write a function that takes a string as input and counts the frequency of each character."
   ]
  },
  {
   "cell_type": "code",
   "execution_count": 25,
   "id": "bab1f83a-4b9a-49ce-b234-6fc883d8c868",
   "metadata": {},
   "outputs": [
    {
     "name": "stdout",
     "output_type": "stream",
     "text": [
      "Character frequency in 'programming': Counter({'r': 2, 'g': 2, 'm': 2, 'p': 1, 'o': 1, 'a': 1, 'i': 1, 'n': 1})\n"
     ]
    }
   ],
   "source": [
    "from collections import Counter\n",
    "\n",
    "def count_character_frequency(input_string):\n",
    "    char_counts = Counter(input_string)\n",
    "    return char_counts\n",
    "\n",
    "input_str = \"programming\"\n",
    "result_char_frequency = count_character_frequency(input_str)\n",
    "print(f\"Character frequency in '{input_str}': {result_char_frequency}\")"
   ]
  },
  {
   "cell_type": "code",
   "execution_count": null,
   "id": "de47045a-12cf-4d1f-bb84-84affb421349",
   "metadata": {},
   "outputs": [],
   "source": []
  }
 ],
 "metadata": {
  "kernelspec": {
   "display_name": "Python 3 (ipykernel)",
   "language": "python",
   "name": "python3"
  },
  "language_info": {
   "codemirror_mode": {
    "name": "ipython",
    "version": 3
   },
   "file_extension": ".py",
   "mimetype": "text/x-python",
   "name": "python",
   "nbconvert_exporter": "python",
   "pygments_lexer": "ipython3",
   "version": "3.9.10"
  },
  "widgets": {
   "application/vnd.jupyter.widget-state+json": {
    "state": {},
    "version_major": 2,
    "version_minor": 0
   }
  }
 },
 "nbformat": 4,
 "nbformat_minor": 5
}
